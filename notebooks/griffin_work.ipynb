{
 "cells": [
  {
   "cell_type": "code",
   "execution_count": 1,
   "metadata": {},
   "outputs": [],
   "source": [
    "import datetime\n",
    "import json\n",
    "import pandas as pd\n",
    "import os\n",
    "import numpy as np\n",
    "from sklearn.preprocessing import FunctionTransformer\n",
    "from sklearn.metrics import mean_squared_error\n",
    "from sklearn.pipeline import Pipeline\n",
    "import numpy\n",
    "from functools import reduce\n",
    "from sklearn.preprocessing import scale\n",
    "import matplotlib.pyplot as plt\n",
    "%matplotlib inline\n",
    "\n",
    "from sklearn.preprocessing import StandardScaler\n",
    "from sklearn.decomposition import PCA\n",
    "from sklearn.manifold import TSNE\n",
    "\n",
    "import statsmodels.tsa.stattools as ts"
   ]
  },
  {
   "cell_type": "code",
   "execution_count": 2,
   "metadata": {},
   "outputs": [],
   "source": [
    "import warnings\n",
    "warnings.simplefilter(action=\"ignore\", category=FutureWarning)"
   ]
  },
  {
   "cell_type": "markdown",
   "metadata": {},
   "source": [
    "## Setup and Cleaning"
   ]
  },
  {
   "cell_type": "code",
   "execution_count": 3,
   "metadata": {},
   "outputs": [
    {
     "name": "stdout",
     "output_type": "stream",
     "text": [
      "['ZECETH', 'TRXETH', 'XRPETH', 'BNBBTC', 'EOSETH', 'LTCBNB', 'DASHBNB', 'XMRBNB', 'DASHUSDT', 'TRXBNB', 'ZECBNB', 'ADABTC', 'ZECUSDT', 'EOSBNB', 'LTCETH', 'XRPBNB', 'XMRETH', 'BNBUSDT', 'DASHETH', 'LTCUSDT', 'ETHBTC', 'TRXUSDT', 'TRXXRP', 'TRXBTC', 'ZECBTC', 'ADABNB', 'ETHUSDT', 'BTCUSDT', 'XMRUSDT', 'EOSBTC', 'BNBETH', 'XRPBTC', 'DASHBTC', 'EOSUSDT', 'XMRBTC', 'ADAETH', 'ADAUSDT', 'XRPUSDT', 'LTCBTC']\n"
     ]
    }
   ],
   "source": [
    "files = os.listdir(\"data/\")\n",
    "symbols = [f[:-4] for f in files if f[-4:]==\".csv\"]\n",
    "print(symbols)\n",
    "dfs = {f[:-4]: pd.read_csv(\"data/\" + f, index_col=\"time\") for f in files if f[-4:]==\".csv\"}"
   ]
  },
  {
   "cell_type": "code",
   "execution_count": 4,
   "metadata": {},
   "outputs": [],
   "source": [
    "n = 30000\n",
    "good_dfs = {}\n",
    "for k, v in dfs.items():\n",
    "    if v.shape[0] > n:\n",
    "        good_dfs[k] = v"
   ]
  },
  {
   "cell_type": "code",
   "execution_count": 5,
   "metadata": {},
   "outputs": [
    {
     "data": {
      "text/plain": [
       "(32687, 31)"
      ]
     },
     "execution_count": 5,
     "metadata": {},
     "output_type": "execute_result"
    }
   ],
   "source": [
    "for k, v in good_dfs.items():\n",
    "    good_dfs[k].index = pd.to_datetime(good_dfs[k].index, unit=\"ms\", utc=True)\n",
    "\n",
    "closes_ls = [good_dfs[k]['close'] for k, v in good_dfs.items()]\n",
    "closes_df = pd.concat(closes_ls, axis=1).dropna()\n",
    "closes_df.columns = list(good_dfs.keys())\n",
    "closes_df.shape"
   ]
  },
  {
   "cell_type": "code",
   "execution_count": 6,
   "metadata": {},
   "outputs": [
    {
     "data": {
      "text/plain": [
       "[numpy.timedelta64('NaT','m'),\n",
       " numpy.timedelta64(15,'m'),\n",
       " numpy.timedelta64(615,'m'),\n",
       " numpy.timedelta64(120,'m'),\n",
       " numpy.timedelta64(465,'m'),\n",
       " numpy.timedelta64(225,'m'),\n",
       " numpy.timedelta64(435,'m'),\n",
       " numpy.timedelta64(375,'m')]"
      ]
     },
     "execution_count": 6,
     "metadata": {},
     "output_type": "execute_result"
    }
   ],
   "source": [
    "bad_times = list(pd.DataFrame(closes_df.index).time.diff().unique())\n",
    "[i.astype('timedelta64[m]') for i in bad_times] "
   ]
  },
  {
   "cell_type": "code",
   "execution_count": 7,
   "metadata": {},
   "outputs": [
    {
     "data": {
      "text/plain": [
       "(32870, 31)"
      ]
     },
     "execution_count": 7,
     "metadata": {},
     "output_type": "execute_result"
    }
   ],
   "source": [
    "closes_df = closes_df.resample('15T').max()\n",
    "closes_df.fillna(method=\"ffill\", inplace=True)\n",
    "closes_df.shape # The dimensions have changed!"
   ]
  },
  {
   "cell_type": "code",
   "execution_count": 8,
   "metadata": {},
   "outputs": [],
   "source": [
    "dfs_keys = good_dfs.keys()\n",
    "usd_pairs = list(filter(lambda x:  x[-4:] == 'USDT', list(dfs_keys)))\n",
    "btc_pairs = list(filter(lambda x:  x[-3:] == 'BTC', list(dfs_keys)))\n",
    "eth_pairs = list(filter(lambda x:  x[-3:] == 'ETH', list(dfs_keys)))\n",
    "bnb_pairs = list(filter(lambda x:  x[-3:] == 'BNB', list(dfs_keys)))\n",
    "pairs = {'USD': usd_pairs, 'BTC': btc_pairs, 'ETH': eth_pairs, 'BNB': bnb_pairs}"
   ]
  },
  {
   "cell_type": "code",
   "execution_count": 9,
   "metadata": {},
   "outputs": [],
   "source": [
    "close_prices = closes_df[pairs['USD']]\n",
    "# close_prices = closes_df"
   ]
  },
  {
   "cell_type": "code",
   "execution_count": 10,
   "metadata": {},
   "outputs": [
    {
     "data": {
      "text/html": [
       "<div>\n",
       "<style scoped>\n",
       "    .dataframe tbody tr th:only-of-type {\n",
       "        vertical-align: middle;\n",
       "    }\n",
       "\n",
       "    .dataframe tbody tr th {\n",
       "        vertical-align: top;\n",
       "    }\n",
       "\n",
       "    .dataframe thead th {\n",
       "        text-align: right;\n",
       "    }\n",
       "</style>\n",
       "<table border=\"1\" class=\"dataframe\">\n",
       "  <thead>\n",
       "    <tr style=\"text-align: right;\">\n",
       "      <th></th>\n",
       "      <th>BNBUSDT</th>\n",
       "      <th>LTCUSDT</th>\n",
       "      <th>TRXUSDT</th>\n",
       "      <th>ETHUSDT</th>\n",
       "      <th>BTCUSDT</th>\n",
       "      <th>EOSUSDT</th>\n",
       "      <th>ADAUSDT</th>\n",
       "      <th>XRPUSDT</th>\n",
       "    </tr>\n",
       "  </thead>\n",
       "  <tbody>\n",
       "    <tr>\n",
       "      <th>BNBUSDT</th>\n",
       "      <td>1.000000</td>\n",
       "      <td>0.496561</td>\n",
       "      <td>0.490588</td>\n",
       "      <td>0.554598</td>\n",
       "      <td>0.551974</td>\n",
       "      <td>0.507958</td>\n",
       "      <td>0.514062</td>\n",
       "      <td>0.444468</td>\n",
       "    </tr>\n",
       "    <tr>\n",
       "      <th>LTCUSDT</th>\n",
       "      <td>0.496561</td>\n",
       "      <td>1.000000</td>\n",
       "      <td>0.606620</td>\n",
       "      <td>0.765425</td>\n",
       "      <td>0.739385</td>\n",
       "      <td>0.724486</td>\n",
       "      <td>0.668983</td>\n",
       "      <td>0.586141</td>\n",
       "    </tr>\n",
       "    <tr>\n",
       "      <th>TRXUSDT</th>\n",
       "      <td>0.490588</td>\n",
       "      <td>0.606620</td>\n",
       "      <td>1.000000</td>\n",
       "      <td>0.675607</td>\n",
       "      <td>0.675920</td>\n",
       "      <td>0.632102</td>\n",
       "      <td>0.671486</td>\n",
       "      <td>0.581334</td>\n",
       "    </tr>\n",
       "    <tr>\n",
       "      <th>ETHUSDT</th>\n",
       "      <td>0.554598</td>\n",
       "      <td>0.765425</td>\n",
       "      <td>0.675607</td>\n",
       "      <td>1.000000</td>\n",
       "      <td>0.792550</td>\n",
       "      <td>0.763085</td>\n",
       "      <td>0.736680</td>\n",
       "      <td>0.653302</td>\n",
       "    </tr>\n",
       "    <tr>\n",
       "      <th>BTCUSDT</th>\n",
       "      <td>0.551974</td>\n",
       "      <td>0.739385</td>\n",
       "      <td>0.675920</td>\n",
       "      <td>0.792550</td>\n",
       "      <td>1.000000</td>\n",
       "      <td>0.738121</td>\n",
       "      <td>0.732192</td>\n",
       "      <td>0.634479</td>\n",
       "    </tr>\n",
       "    <tr>\n",
       "      <th>EOSUSDT</th>\n",
       "      <td>0.507958</td>\n",
       "      <td>0.724486</td>\n",
       "      <td>0.632102</td>\n",
       "      <td>0.763085</td>\n",
       "      <td>0.738121</td>\n",
       "      <td>1.000000</td>\n",
       "      <td>0.687285</td>\n",
       "      <td>0.609630</td>\n",
       "    </tr>\n",
       "    <tr>\n",
       "      <th>ADAUSDT</th>\n",
       "      <td>0.514062</td>\n",
       "      <td>0.668983</td>\n",
       "      <td>0.671486</td>\n",
       "      <td>0.736680</td>\n",
       "      <td>0.732192</td>\n",
       "      <td>0.687285</td>\n",
       "      <td>1.000000</td>\n",
       "      <td>0.635516</td>\n",
       "    </tr>\n",
       "    <tr>\n",
       "      <th>XRPUSDT</th>\n",
       "      <td>0.444468</td>\n",
       "      <td>0.586141</td>\n",
       "      <td>0.581334</td>\n",
       "      <td>0.653302</td>\n",
       "      <td>0.634479</td>\n",
       "      <td>0.609630</td>\n",
       "      <td>0.635516</td>\n",
       "      <td>1.000000</td>\n",
       "    </tr>\n",
       "  </tbody>\n",
       "</table>\n",
       "</div>"
      ],
      "text/plain": [
       "          BNBUSDT   LTCUSDT   TRXUSDT   ETHUSDT   BTCUSDT   EOSUSDT   ADAUSDT  \\\n",
       "BNBUSDT  1.000000  0.496561  0.490588  0.554598  0.551974  0.507958  0.514062   \n",
       "LTCUSDT  0.496561  1.000000  0.606620  0.765425  0.739385  0.724486  0.668983   \n",
       "TRXUSDT  0.490588  0.606620  1.000000  0.675607  0.675920  0.632102  0.671486   \n",
       "ETHUSDT  0.554598  0.765425  0.675607  1.000000  0.792550  0.763085  0.736680   \n",
       "BTCUSDT  0.551974  0.739385  0.675920  0.792550  1.000000  0.738121  0.732192   \n",
       "EOSUSDT  0.507958  0.724486  0.632102  0.763085  0.738121  1.000000  0.687285   \n",
       "ADAUSDT  0.514062  0.668983  0.671486  0.736680  0.732192  0.687285  1.000000   \n",
       "XRPUSDT  0.444468  0.586141  0.581334  0.653302  0.634479  0.609630  0.635516   \n",
       "\n",
       "          XRPUSDT  \n",
       "BNBUSDT  0.444468  \n",
       "LTCUSDT  0.586141  \n",
       "TRXUSDT  0.581334  \n",
       "ETHUSDT  0.653302  \n",
       "BTCUSDT  0.634479  \n",
       "EOSUSDT  0.609630  \n",
       "ADAUSDT  0.635516  \n",
       "XRPUSDT  1.000000  "
      ]
     },
     "execution_count": 10,
     "metadata": {},
     "output_type": "execute_result"
    }
   ],
   "source": [
    "log_prices = FunctionTransformer(func=numpy.log).fit_transform(close_prices)\n",
    "returns = pd.DataFrame(log_prices).diff()\n",
    "returns.columns = close_prices.columns\n",
    "returns = returns.drop(returns.index[0])\n",
    "returns.corr()"
   ]
  },
  {
   "cell_type": "markdown",
   "metadata": {},
   "source": [
    "## Cointegration"
   ]
  },
  {
   "cell_type": "code",
   "execution_count": 11,
   "metadata": {},
   "outputs": [],
   "source": [
    "log_df = pd.DataFrame(log_prices)\n",
    "log_df.index = close_prices.index\n",
    "log_df.columns = usd_pairs\n",
    "\n",
    "n = log_df.shape[0]\n",
    "m = 100\n",
    "\n",
    "def get_cointegration(asset_1, asset_2):\n",
    "    cointegrations = []\n",
    "\n",
    "    for i in range(0, (n-m)):\n",
    "        roll_df = log_df.iloc[i:(i+m), :]\n",
    "        btc = roll_df[asset_1]\n",
    "        eth = roll_df[asset_2]\n",
    "        cointegrations.append(ts.coint(btc, eth)[1])\n",
    "    \n",
    "    return cointegrations"
   ]
  },
  {
   "cell_type": "code",
   "execution_count": 12,
   "metadata": {},
   "outputs": [],
   "source": [
    "class RollingAnalyzer:\n",
    "    \n",
    "    def __init__(self, prices, m):\n",
    "        self.prices = prices\n",
    "        self.returns = pd.DataFrame(prices).diff()\n",
    "        self.n = prices.shape[0]\n",
    "        self.m = m\n",
    "        self.rolled_dfs = None\n",
    "        self.regressions = {}\n",
    "        self.pairs = []\n",
    "    \n",
    "    def make_dfs(self):\n",
    "        roll_range = range(0, self.n - self.m)\n",
    "        self.rolled_dfs = [pd.DataFrame(self.prices.iloc[i:(i+self.m), :]) for i in roll_range]\n",
    "    \n",
    "    def run_regressions(self, asset_1, asset_2):\n",
    "        code = asset_1 + '_' + asset_2\n",
    "        self.regressions[code] = []\n",
    "        for df in self.rolled_dfs:\n",
    "            date_range = df.index[0], df.index[df.shape[0]-1]\n",
    "            x = df[asset_1].values.reshape(-1, 1)\n",
    "            y = df[asset_2].values\n",
    "            linear_regression = LinearRegression().fit(x, y)\n",
    "            residuals = y - linear_regression.predict(x)\n",
    "            reg_dict = {\n",
    "                'date_range': date_range,\n",
    "                'regression': linear_regression,\n",
    "                'residuals': residuals,\n",
    "            }\n",
    "            self.regressions[code].append(reg_dict)\n",
    "        \n",
    "    def asset_loop(self):\n",
    "        for i in range(0, self.prices.shape[1]):\n",
    "            pair_i = self.prices.columns[i]\n",
    "            for j in range(0, i):\n",
    "                pair_j = self.prices.columns[j]\n",
    "                if pair_i != pair_j:\n",
    "                    self.pairs.append((pair_i, pair_j))\n",
    "    \n",
    "    def run_all_regressions(self):\n",
    "        if not self.pairs:\n",
    "            print(\"Must make pairs\")\n",
    "        else:\n",
    "            for pair in self.pairs:\n",
    "                self.run_regressions(pair_i, pair_j)\n",
    "    \n",
    "    def calc_dickey_fuller(self, asset_1, asset_2):\n",
    "        code = asset_1 + '_' + asset_2\n",
    "        if code not in self.regressions.keys():\n",
    "            print('Assets not regressed yet')\n",
    "        else:\n",
    "            for regression in self.regressions[code]:\n",
    "                regression['dickey_fuller'] = ts.adfuller(regression['residuals'])\n",
    "                \n",
    "    def calc_all_dickey_fullers(self):\n",
    "        if not self.pairs:\n",
    "            print(\"Must make pairs\")\n",
    "        else:\n",
    "            for pair in self.pairs:\n",
    "                self.calc_dickey_fuller(pair_i, pair_j)        \n",
    "                \n",
    "    def export_df(self):\n",
    "        dickey_fullers = {}\n",
    "        date_index = []\n",
    "        for k, v in self.regressions.items():\n",
    "            dickey_fullers[k] = v['dickey_fuller']\n",
    "            date_index.append(v['date_range'][0])\n",
    "        out_df = pd.from_dict(dickey_fuller)\n",
    "        out_df.index = date_index\n",
    "        return(out_df)"
   ]
  },
  {
   "cell_type": "code",
   "execution_count": 13,
   "metadata": {},
   "outputs": [],
   "source": [
    "\n",
    "\n",
    "if os.path.isfile(\"cointegration.json\"):\n",
    "    with open(\"cointegration.json\", \"r\") as f:\n",
    "        cointegration_mv = json.load(f)\n",
    "else:\n",
    "    cointegration_mv = {}\n",
    "    for i in range(0, len(usd_pairs)):\n",
    "        pair_i = usd_pairs[i]\n",
    "        print(pair_i)\n",
    "        for j in range(0, i):\n",
    "            pair_j = usd_pairs[j]\n",
    "            print(\"\\t+\",pair_j)\n",
    "            if pair_i != pair_j:\n",
    "                code = pair_i + '_' + pair_j\n",
    "                print(\"\\t\\t=\",code)\n",
    "                cointegration_mv[code] = get_cointegration(pair_i, pair_j)\n",
    "    \n",
    "    json = json.dumps(cointegration_mv)\n",
    "    f = open(\"cointegration.json\",\"w\")\n",
    "    f.write(json)\n",
    "    f.close()"
   ]
  },
  {
   "cell_type": "code",
   "execution_count": 14,
   "metadata": {},
   "outputs": [
    {
     "data": {
      "text/plain": [
       "dict_keys(['ETHUSDT_BNBUSDT', 'LTCUSDT_XRPUSDT', 'BTCUSDT_TRXUSDT', 'XRPUSDT_EOSUSDT', 'XRPUSDT_ADAUSDT', 'LTCUSDT_EOSUSDT', 'ADAUSDT_BNBUSDT', 'LTCUSDT_BNBUSDT', 'BTCUSDT_ADAUSDT', 'BNBUSDT_EOSUSDT', 'BTCUSDT_EOSUSDT', 'TRXUSDT_BNBUSDT', 'ETHUSDT_ADAUSDT', 'BTCUSDT_ETHUSDT', 'BTCUSDT_BNBUSDT', 'ETHUSDT_TRXUSDT', 'BTCUSDT_XRPUSDT', 'TRXUSDT_ADAUSDT', 'XRPUSDT_TRXUSDT', 'XRPUSDT_BNBUSDT', 'ETHUSDT_XRPUSDT', 'ADAUSDT_EOSUSDT', 'ETHUSDT_LTCUSDT', 'LTCUSDT_ADAUSDT', 'ETHUSDT_EOSUSDT', 'TRXUSDT_EOSUSDT', 'BTCUSDT_LTCUSDT', 'LTCUSDT_TRXUSDT'])"
      ]
     },
     "execution_count": 14,
     "metadata": {},
     "output_type": "execute_result"
    }
   ],
   "source": [
    "cointegration_mv.keys()"
   ]
  },
  {
   "cell_type": "code",
   "execution_count": 15,
   "metadata": {},
   "outputs": [],
   "source": [
    "from scipy.stats import norm\n",
    "\n",
    "coint_df = pd.DataFrame.from_dict(cointegration_mv)\n",
    "coint_df.index = log_df.index[m:]\n",
    "\n",
    "def to_good_range(col):\n",
    "    return norm.ppf(col, loc=0, scale=1)\n",
    "\n",
    "coint_inf_df = coint_df.apply(to_good_range)"
   ]
  },
  {
   "cell_type": "markdown",
   "metadata": {},
   "source": [
    "## Create Test / Train Data"
   ]
  },
  {
   "cell_type": "code",
   "execution_count": 16,
   "metadata": {},
   "outputs": [],
   "source": [
    "subset = coint_df.iloc[:2000, :]\n",
    "target_label = 'BTCUSDT_ETHUSDT'\n",
    "\n",
    "# default lookback is 1 day = 15min intervals * 96 obversavtions\n",
    "# default lookforward is 2 hours = 15min intervals * 8 obvservations\n",
    "def ts_split(ts, target_label, feature_steps=100, target_steps=100):\n",
    "    n_obs = len(ts) - feature_steps - target_steps + 1\n",
    "        \n",
    "    X = [ts[idx:idx + feature_steps].as_matrix() for idx in range(n_obs)]\n",
    "    y = [ts[target_label][idx + feature_steps:idx + feature_steps + target_steps] for idx in range(n_obs)]\n",
    "    \n",
    "    return np.array(X), np.array(y)\n",
    "\n",
    "X, y = ts_split(subset, target_label)\n",
    "test_train_split = int(0.8 * len(X))\n",
    "val_train_split = int(0.8 * test_train_split)\n",
    "\n",
    "X_test, y_test = X[test_train_split:], y[test_train_split:]\n",
    "X_train, y_train = X[:val_train_split], y[:val_train_split]\n",
    "X_valid, y_valid = X[val_train_split:test_train_split], y[val_train_split:test_train_split]"
   ]
  },
  {
   "cell_type": "code",
   "execution_count": 70,
   "metadata": {},
   "outputs": [
    {
     "data": {
      "text/plain": [
       "(0, 500)"
      ]
     },
     "execution_count": 70,
     "metadata": {},
     "output_type": "execute_result"
    },
    {
     "data": {
      "image/png": "[encoded data removed]",
      "text/plain": [
       "<Figure size 432x288 with 1 Axes>"
      ]
     },
     "metadata": {
      "needs_background": "light"
     },
     "output_type": "display_data"
    }
   ],
   "source": [
    "from statsmodels.graphics.tsaplots import plot_acf\n",
    "\n",
    "plot_acf(coint_df[target_label])\n",
    "plt.xlim(0, 500)"
   ]
  },
  {
   "cell_type": "markdown",
   "metadata": {},
   "source": [
    "## Machine Learning"
   ]
  },
  {
   "cell_type": "code",
   "execution_count": 18,
   "metadata": {},
   "outputs": [],
   "source": [
    "from sklearn.ensemble import RandomForestRegressor\n",
    "\n",
    "rfr = RandomForestRegressor()\n",
    "trax1, trax2, trax3 = X_train.shape\n",
    "vax1, vax2, vax3 = X_valid.shape\n",
    "tax1, tax2, tax3 = X_test.shape\n",
    "d2_X_train = X_train.reshape(trax1, trax2*trax3)\n",
    "d2_X_valid = X_valid.reshape(vax1, vax2*vax3)\n",
    "d2_X_test = X_test.reshape(tax1, tax2*tax3)"
   ]
  },
  {
   "cell_type": "code",
   "execution_count": 19,
   "metadata": {},
   "outputs": [
    {
     "data": {
      "text/plain": [
       "RandomForestRegressor(bootstrap=True, criterion='mse', max_depth=None,\n",
       "           max_features='auto', max_leaf_nodes=None,\n",
       "           min_impurity_decrease=0.0, min_impurity_split=None,\n",
       "           min_samples_leaf=1, min_samples_split=2,\n",
       "           min_weight_fraction_leaf=0.0, n_estimators=10, n_jobs=None,\n",
       "           oob_score=False, random_state=None, verbose=0, warm_start=False)"
      ]
     },
     "execution_count": 19,
     "metadata": {},
     "output_type": "execute_result"
    }
   ],
   "source": [
    "rfr.fit(d2_X_train, y_train)"
   ]
  },
  {
   "cell_type": "code",
   "execution_count": 20,
   "metadata": {},
   "outputs": [
    {
     "data": {
      "text/plain": [
       "0.0529932520529715"
      ]
     },
     "execution_count": 20,
     "metadata": {},
     "output_type": "execute_result"
    }
   ],
   "source": [
    "from sklearn.metrics import mean_squared_error\n",
    "\n",
    "y_pred_train = rfr.predict(d2_X_train)\n",
    "np.sqrt(mean_squared_error(y_pred_train, y_train))\n"
   ]
  },
  {
   "cell_type": "markdown",
   "metadata": {},
   "source": [
    "As we can see, the RMSE decreased using the optimized model. Now I will calculate RMSE on the validation set and create some plots illustrating model performance."
   ]
  },
  {
   "cell_type": "code",
   "execution_count": 23,
   "metadata": {
    "scrolled": false
   },
   "outputs": [
    {
     "name": "stdout",
     "output_type": "stream",
     "text": [
      "done\n",
      "done\n",
      "done\n",
      "done\n",
      "done\n",
      "done\n"
     ]
    },
    {
     "data": {
      "image/png": "[encoded data removed]",
      "text/plain": [
       "<Figure size 432x288 with 1 Axes>"
      ]
     },
     "metadata": {
      "needs_background": "light"
     },
     "output_type": "display_data"
    }
   ],
   "source": [
    "import matplotlib as mlp\n",
    "import matplotlib.pyplot as plt\n",
    "ranger = np.arange(1, len(X_train), 200)\n",
    "def plot_learning_curves(model, X_train, y_train, X_val, y_val):\n",
    "    train_errors, val_errors = [], []\n",
    "    for m in ranger:\n",
    "        model.fit(X_train[:m], y_train[:m])\n",
    "        y_train_predict = model.predict(X_train[:m])\n",
    "        y_val_predict = model.predict(X_val)\n",
    "        train_errors.append(mean_squared_error(y_train[:m], y_train_predict))\n",
    "        val_errors.append(mean_squared_error(y_val, y_val_predict))\n",
    "        print('done')\n",
    "\n",
    "    plt.plot(np.sqrt(train_errors), \"r-+\", linewidth=2, label=\"train\")\n",
    "    plt.plot(np.sqrt(val_errors), \"b-\", linewidth=3, label=\"val\")\n",
    "    plt.legend(loc=\"upper right\", fontsize=14) \n",
    "    plt.xlim = (1, len(d2_X_train))\n",
    "    plt.xlabel(\"Training set size\", fontsize=14) \n",
    "    plt.ylabel(\"RMSE\", fontsize=14) \n",
    "    \n",
    "plot_learning_curves(rfr, d2_X_train, y_train, d2_X_valid, y_valid)\n"
   ]
  },
  {
   "cell_type": "markdown",
   "metadata": {},
   "source": [
    "As you can see, the model is overfitting the data fairly severely. I will attempt to remedy this."
   ]
  },
  {
   "cell_type": "code",
   "execution_count": 24,
   "metadata": {},
   "outputs": [
    {
     "name": "stdout",
     "output_type": "stream",
     "text": [
      "0.27676870970724426\n"
     ]
    }
   ],
   "source": [
    "y_pred_val_org = rfr.predict(d2_X_valid)\n",
    "print(np.sqrt(mean_squared_error(y_pred_val_org, y_valid)))\n"
   ]
  },
  {
   "cell_type": "code",
   "execution_count": 25,
   "metadata": {},
   "outputs": [],
   "source": [
    "y_pred_test_rfr = rfr.predict(d2_X_test)"
   ]
  },
  {
   "cell_type": "code",
   "execution_count": 26,
   "metadata": {},
   "outputs": [
    {
     "data": {
      "image/png": "[encoded data removed]",
      "text/plain": [
       "<Figure size 432x288 with 1 Axes>"
      ]
     },
     "metadata": {
      "needs_background": "light"
     },
     "output_type": "display_data"
    }
   ],
   "source": [
    "mse_test_rfr = mean_squared_error(y_pred_test_rfr, y_test, multioutput = 'raw_values')\n",
    "rmse_test_rfr = [np.sqrt(x) for x in mse_test_rfr]\n",
    "plt.plot(rmse_test_rfr)\n",
    "plt.title('Forecast Errors')\n",
    "plt.xlim(0, 100)\n",
    "plt.ylabel(\"RMSE\")\n",
    "plt.xlabel(\"Periods Ahead Forecast\")\n",
    "plt.show()"
   ]
  },
  {
   "cell_type": "markdown",
   "metadata": {},
   "source": [
    "Let's try the multi-ouptut regressor class and see how well it fits."
   ]
  },
  {
   "cell_type": "code",
   "execution_count": 61,
   "metadata": {},
   "outputs": [
    {
     "data": {
      "text/plain": [
       "MultiOutputRegressor(estimator=RandomForestRegressor(bootstrap=True, criterion='mse', max_depth=None,\n",
       "           max_features='auto', max_leaf_nodes=None,\n",
       "           min_impurity_decrease=0.0, min_impurity_split=None,\n",
       "           min_samples_leaf=1, min_samples_split=2,\n",
       "           min_weight_fraction_leaf=0.0, n_estimators=10, n_jobs=None,\n",
       "           oob_score=False, random_state=None, verbose=0, warm_start=False),\n",
       "           n_jobs=2)"
      ]
     },
     "execution_count": 61,
     "metadata": {},
     "output_type": "execute_result"
    }
   ],
   "source": [
    "from sklearn.multioutput import MultiOutputRegressor\n",
    "\n",
    "mor = MultiOutputRegressor(rfr, n_jobs = 2)\n",
    "mor.fit(d2_X_train, y_train)\n"
   ]
  },
  {
   "cell_type": "code",
   "execution_count": 29,
   "metadata": {},
   "outputs": [
    {
     "name": "stdout",
     "output_type": "stream",
     "text": [
      "done\n",
      "done\n",
      "done\n",
      "done\n",
      "done\n",
      "done\n"
     ]
    },
    {
     "data": {
      "image/png": "[encoded data removed]",
      "text/plain": [
       "<Figure size 432x288 with 1 Axes>"
      ]
     },
     "metadata": {
      "needs_background": "light"
     },
     "output_type": "display_data"
    }
   ],
   "source": [
    "plot_learning_curves(mor, d2_X_train, y_train, d2_X_valid, y_valid)"
   ]
  },
  {
   "cell_type": "code",
   "execution_count": 62,
   "metadata": {},
   "outputs": [
    {
     "name": "stdout",
     "output_type": "stream",
     "text": [
      "The RMSE of the multi-output regressor model on the training set is:  0.05119676044496937 \n",
      "\n",
      "The RMSE of the multi-output regressor model on the validation set is:  0.24285258080397498 \n",
      "\n"
     ]
    }
   ],
   "source": [
    "y_train_pred_mor = mor.predict(d2_X_train)\n",
    "y_valid_pred_mor = mor.predict(d2_X_valid)\n",
    "print(\"The RMSE of the multi-output regressor model on the training set is: \", np.sqrt(mean_squared_error(y_train_pred_mor, y_train)), '\\n')\n",
    "\n",
    "print(\"The RMSE of the multi-output regressor model on the validation set is: \", np.sqrt(mean_squared_error(y_valid_pred_mor, y_valid)), '\\n')"
   ]
  },
  {
   "cell_type": "markdown",
   "metadata": {},
   "source": [
    "The overfitting looks better, but still not very good. The model also fits better. Let's try dimensionality reduction and see if that gives us a model that fits both sets better."
   ]
  },
  {
   "cell_type": "code",
   "execution_count": 47,
   "metadata": {},
   "outputs": [],
   "source": [
    "from sklearn.decomposition import PCA\n",
    "pca = PCA(n_components = .95, whiten = True)\n",
    "d2_X_train_pca = pca.fit_transform(d2_X_train, y_train)\n",
    "d2_X_valid_pca = pca.transform(d2_X_valid)\n",
    "d2_X_test_pca = pca.transform(d2_X_test)\n"
   ]
  },
  {
   "cell_type": "code",
   "execution_count": 48,
   "metadata": {},
   "outputs": [
    {
     "name": "stdout",
     "output_type": "stream",
     "text": [
      "[[ 1.01991188 -0.69563529  0.11790277 ... -0.05987418 -0.49981616\n",
      "   1.24682663]\n",
      " [ 1.07768259 -0.68744832  0.08216532 ...  0.21521483 -0.05786412\n",
      "   0.74280194]\n",
      " [ 1.13215165 -0.67968777  0.05305626 ...  0.29398238  0.64492883\n",
      "   0.14095759]\n",
      " ...\n",
      " [-1.49527753 -1.91540578  0.64102206 ... -2.23814394 -0.13602316\n",
      "  -0.68268815]\n",
      " [-1.45564147 -1.9074261   0.68616112 ... -2.61849359 -0.26662027\n",
      "  -0.83377203]\n",
      " [-1.41269942 -1.89700984  0.7246205  ... -2.54454098 -0.28917472\n",
      "  -0.83851649]]\n"
     ]
    }
   ],
   "source": [
    "print(d2_X_train_pca)"
   ]
  },
  {
   "cell_type": "code",
   "execution_count": 49,
   "metadata": {},
   "outputs": [
    {
     "data": {
      "text/plain": [
       "MultiOutputRegressor(estimator=RandomForestRegressor(bootstrap=True, criterion='mse', max_depth=None,\n",
       "           max_features='auto', max_leaf_nodes=None,\n",
       "           min_impurity_decrease=0.0, min_impurity_split=None,\n",
       "           min_samples_leaf=1, min_samples_split=2,\n",
       "           min_weight_fraction_leaf=0.0, n_estimators=10, n_jobs=None,\n",
       "           oob_score=False, random_state=None, verbose=0, warm_start=False),\n",
       "           n_jobs=2)"
      ]
     },
     "execution_count": 49,
     "metadata": {},
     "output_type": "execute_result"
    }
   ],
   "source": [
    "mor_pca = MultiOutputRegressor(rfr, n_jobs = 2)\n",
    "mor_pca.fit(d2_X_train_pca, y_train)"
   ]
  },
  {
   "cell_type": "code",
   "execution_count": 50,
   "metadata": {},
   "outputs": [
    {
     "name": "stdout",
     "output_type": "stream",
     "text": [
      "done\n",
      "done\n",
      "done\n",
      "done\n",
      "done\n",
      "done\n"
     ]
    },
    {
     "data": {
      "image/png": "[encoded data removed]",
      "text/plain": [
       "<Figure size 432x288 with 1 Axes>"
      ]
     },
     "metadata": {
      "needs_background": "light"
     },
     "output_type": "display_data"
    }
   ],
   "source": [
    "plot_learning_curves(mor_pca, d2_X_train_pca, y_train, d2_X_valid_pca, y_valid)"
   ]
  },
  {
   "cell_type": "markdown",
   "metadata": {},
   "source": [
    "It appears the model is still overfitting, and is overfitting even worse than before. Let's check RMSE on the validation and training set just to be sure."
   ]
  },
  {
   "cell_type": "code",
   "execution_count": 53,
   "metadata": {},
   "outputs": [
    {
     "data": {
      "image/png": "[encoded data removed]",
      "text/plain": [
       "<Figure size 432x288 with 1 Axes>"
      ]
     },
     "metadata": {
      "needs_background": "light"
     },
     "output_type": "display_data"
    }
   ],
   "source": [
    "y_pred_train_mor_pca = mor_pca.predict(d2_X_train_pca)\n",
    "mse_train_mor_pca = mean_squared_error(y_pred_train_mor_pca, y_train, multioutput = 'raw_values')\n",
    "rmse_train_more_pca = [np.sqrt(x) for x in y_pred_train_mor_pca]\n",
    "y_pred_valid_mor_pca = mor_pca.predict(d2_X_valid_pca)\n",
    "mse_train_mor_pca = mean_squared_error(y_pred_valid_mor_pca, y_valid, multioutput = 'raw_values')\n",
    "rmse_valid_more_pca = [np.sqrt(x) for x in y_pred_valid_mor_pca]\n",
    "plt.plot(rmse_train_more_pca, 'r', rmse_valid_more_pca, 'b')\n",
    "plt.show()"
   ]
  },
  {
   "cell_type": "markdown",
   "metadata": {},
   "source": [
    "Based on this plot it seems the RMSE's are close to one another. However, I would estimate that the final RMSE values will differ more significantly"
   ]
  },
  {
   "cell_type": "code",
   "execution_count": 55,
   "metadata": {},
   "outputs": [
    {
     "name": "stdout",
     "output_type": "stream",
     "text": [
      "Training set RMSE:\n",
      "\n",
      "0.13476672962301728 \n",
      "\n",
      "Validation set RMSE:\n",
      "\n",
      "0.2827446593534335\n"
     ]
    }
   ],
   "source": [
    "print(\"Training set RMSE:\\n\")\n",
    "print(np.sqrt(mean_squared_error(y_pred_train_mor_pca, y_train)), \"\\n\")\n",
    "print(\"Validation set RMSE:\\n\")\n",
    "print(np.sqrt(mean_squared_error(y_pred_valid_mor_pca, y_valid)))"
   ]
  },
  {
   "cell_type": "markdown",
   "metadata": {},
   "source": [
    "While the model does seem to be overfitting less, it is still overfitting. In addition to this, the predicting power of the model has decreased in both training and validation sets. Let's try fine tuning our model parameters to fit noise less frequently."
   ]
  },
  {
   "cell_type": "code",
   "execution_count": 64,
   "metadata": {},
   "outputs": [
    {
     "data": {
      "text/plain": [
       "MultiOutputRegressor(estimator=RandomForestRegressor(bootstrap=True, criterion='mse', max_depth=None,\n",
       "           max_features='auto', max_leaf_nodes=None,\n",
       "           min_impurity_decrease=0.0, min_impurity_split=None,\n",
       "           min_samples_leaf=50, min_samples_split=50,\n",
       "           min_weight_fraction_leaf=0.0, n_estimators=50, n_jobs=None,\n",
       "           oob_score=False, random_state=None, verbose=0, warm_start=False),\n",
       "           n_jobs=2)"
      ]
     },
     "execution_count": 64,
     "metadata": {},
     "output_type": "execute_result"
    }
   ],
   "source": [
    "rfr_tuning = RandomForestRegressor(n_estimators = 50, criterion = 'mse', min_samples_split = 50, min_samples_leaf = 50)\n",
    "mod_tuned = MultiOutputRegressor(rfr_tuning, n_jobs = 2)\n",
    "mod_tuned.fit(d2_X_train, y_train)"
   ]
  },
  {
   "cell_type": "code",
   "execution_count": 65,
   "metadata": {},
   "outputs": [
    {
     "name": "stdout",
     "output_type": "stream",
     "text": [
      "done\n",
      "done\n",
      "done\n",
      "done\n",
      "done\n",
      "done\n"
     ]
    },
    {
     "data": {
      "image/png": "[encoded data removed]",
      "text/plain": [
       "<Figure size 432x288 with 1 Axes>"
      ]
     },
     "metadata": {
      "needs_background": "light"
     },
     "output_type": "display_data"
    }
   ],
   "source": [
    "plot_learning_curves(mod_tuned, d2_X_train, y_train, d2_X_valid, y_valid)"
   ]
  },
  {
   "cell_type": "code",
   "execution_count": 68,
   "metadata": {},
   "outputs": [
    {
     "data": {
      "image/png": "[encoded data removed]",
      "text/plain": [
       "<Figure size 432x288 with 1 Axes>"
      ]
     },
     "metadata": {
      "needs_background": "light"
     },
     "output_type": "display_data"
    }
   ],
   "source": [
    "y_pred_test_mod_tuned = mod_tuned.predict(d2_X_test)\n",
    "mse_test_mod_tuned = mean_squared_error(y_pred_test_mod_tuned, y_test, multioutput = 'raw_values')\n",
    "rmse_test_mod_tuned = [np.sqrt(x) for x in mse_test_mod_tuned]\n",
    "plt.plot(rmse_test_mod_tuned)\n",
    "plt.title('Forecast Errors')\n",
    "plt.xlim(0, 100)\n",
    "plt.ylabel(\"RMSE\")\n",
    "plt.xlabel(\"Periods Ahead Forecast\")\n",
    "plt.show()"
   ]
  },
  {
   "cell_type": "code",
   "execution_count": 69,
   "metadata": {},
   "outputs": [
    {
     "name": "stdout",
     "output_type": "stream",
     "text": [
      "The RMSE of the tuned model on the training set is  0.17533876992848402 \n",
      "\n",
      "The RMSE of the tuned model on the validation set is  0.24778269487099253 \n",
      "\n",
      "The RMSE of the tuned model on the test set is  0.27389744171804653 \n",
      "\n"
     ]
    }
   ],
   "source": [
    "y_pred_train_mod_tuned = mod_tuned.predict(d2_X_train)\n",
    "y_pred_valid_mod_tuned = mod_tuned.predict(d2_X_valid)\n",
    "print(\"The RMSE of the tuned model on the training set is \", np.sqrt(mean_squared_error(y_pred_train_mod_tuned, y_train)), \"\\n\")\n",
    "print(\"The RMSE of the tuned model on the validation set is \", np.sqrt(mean_squared_error(y_pred_valid_mod_tuned, y_valid)), \"\\n\")\n",
    "\n",
    "\n"
   ]
  },
  {
   "cell_type": "markdown",
   "metadata": {},
   "source": [
    "The best model appears to be the untuned MultiOutput Regressor model. Let's see how it performs on the test set. It is also important to note that the tuned model fits significantly better than the untuned model, despite only a small drop in performance."
   ]
  },
  {
   "cell_type": "code",
   "execution_count": 71,
   "metadata": {},
   "outputs": [
    {
     "name": "stdout",
     "output_type": "stream",
     "text": [
      "The RMSE of the MultiOutput Regressor model on the test set is:  0.28739721718074646\n"
     ]
    },
    {
     "data": {
      "image/png": "[encoded data removed]",
      "text/plain": [
       "<Figure size 432x288 with 1 Axes>"
      ]
     },
     "metadata": {
      "needs_background": "light"
     },
     "output_type": "display_data"
    }
   ],
   "source": [
    "y_pred_test_mor = mor.predict(d2_X_test)\n",
    "print(\"The RMSE of the MultiOutput Regressor model on the test set is: \", np.sqrt(mean_squared_error(y_pred_test_mor,y_test )))\n",
    "mse_test_mor = mean_squared_error(y_pred_test_mor, y_test, multioutput = 'raw_values')\n",
    "rmse_test_mor = [np.sqrt(x) for x in mse_test_mor]\n",
    "plt.plot(rmse_test_mor)\n",
    "plt.title('Forecast Errors')\n",
    "plt.xlim(0, 100)\n",
    "plt.ylabel(\"RMSE\")\n",
    "plt.xlabel(\"Periods Ahead Forecast\")\n",
    "plt.show()"
   ]
  },
  {
   "cell_type": "markdown",
   "metadata": {},
   "source": [
    "The tuned model actually performs better on the test set than the multioutput regressor model. Let's see if we can change some of the parameters for better performance."
   ]
  },
  {
   "cell_type": "code",
   "execution_count": 72,
   "metadata": {},
   "outputs": [
    {
     "data": {
      "text/plain": [
       "MultiOutputRegressor(estimator=RandomForestRegressor(bootstrap=True, criterion='mse', max_depth=100,\n",
       "           max_features='auto', max_leaf_nodes=None,\n",
       "           min_impurity_decrease=0.0, min_impurity_split=None,\n",
       "           min_samples_leaf=25, min_samples_split=25,\n",
       "           min_weight_fraction_leaf=0.0, n_estimators=65, n_jobs=None,\n",
       "           oob_score=False, random_state=None, verbose=0, warm_start=False),\n",
       "           n_jobs=2)"
      ]
     },
     "execution_count": 72,
     "metadata": {},
     "output_type": "execute_result"
    }
   ],
   "source": [
    "rfr_tun2 = RandomForestRegressor(n_estimators = 65,criterion = 'mse', min_samples_split = 25, min_samples_leaf = 25, max_depth = 100)\n",
    "mod_tuned2 = MultiOutputRegressor(rfr_tun2, n_jobs = 2)\n",
    "mod_tuned2.fit(d2_X_train, y_train)"
   ]
  },
  {
   "cell_type": "code",
   "execution_count": 73,
   "metadata": {},
   "outputs": [
    {
     "name": "stdout",
     "output_type": "stream",
     "text": [
      "done\n",
      "done\n",
      "done\n",
      "done\n",
      "done\n",
      "done\n"
     ]
    },
    {
     "data": {
      "image/png": "[encoded data removed]",
      "text/plain": [
       "<Figure size 432x288 with 1 Axes>"
      ]
     },
     "metadata": {
      "needs_background": "light"
     },
     "output_type": "display_data"
    }
   ],
   "source": [
    "plot_learning_curves(mod_tuned2, d2_X_train, y_train, d2_X_valid, y_valid)"
   ]
  },
  {
   "cell_type": "markdown",
   "metadata": {},
   "source": [
    "The RMSE looks better this time! Let's check the overall RMSE on all three sets and compare."
   ]
  },
  {
   "cell_type": "code",
   "execution_count": 78,
   "metadata": {},
   "outputs": [
    {
     "name": "stdout",
     "output_type": "stream",
     "text": [
      "The RMSE of the tuned model on the training set is  0.1454725331709787 \n",
      "\n",
      "The RMSE of the tuned model on the validation set is  0.24627682421986388 \n",
      "\n",
      "The RMSE of the tuned model on the test set is  0.2746548656308782 \n",
      "\n"
     ]
    }
   ],
   "source": [
    "y_pred_train_mod_tuned2 = mod_tuned2.predict(d2_X_train)\n",
    "y_pred_valid_mod_tuned2 = mod_tuned2.predict(d2_X_valid)\n",
    "print(\"The RMSE of the tuned model on the training set is \", np.sqrt(mean_squared_error(y_pred_train_mod_tuned2, y_train)), \"\\n\")\n",
    "print(\"The RMSE of the tuned model on the validation set is \", np.sqrt(mean_squared_error(y_pred_valid_mod_tuned2, y_valid)), \"\\n\")\n",
    "y_pred_test_mod_tuned2 = mod_tuned2.predict(d2_X_test)\n",
    "print(\"The RMSE of the tuned model on the test set is \", np.sqrt(mean_squared_error(y_pred_test_mod_tuned2, y_test)), \"\\n\")"
   ]
  },
  {
   "cell_type": "markdown",
   "metadata": {},
   "source": [
    "So the original tuned model had a better RMSE on training and test sets, So that is the model I will use."
   ]
  },
  {
   "cell_type": "code",
   "execution_count": null,
   "metadata": {},
   "outputs": [],
   "source": []
  }
 ],
 "metadata": {
  "kernelspec": {
   "display_name": "Python 3",
   "language": "python",
   "name": "python3"
  },
  "language_info": {
   "codemirror_mode": {
    "name": "ipython",
    "version": 3
   },
   "file_extension": ".py",
   "mimetype": "text/x-python",
   "name": "python",
   "nbconvert_exporter": "python",
   "pygments_lexer": "ipython3",
   "version": "3.7.1"
  }
 },
 "nbformat": 4,
 "nbformat_minor": 2
}
