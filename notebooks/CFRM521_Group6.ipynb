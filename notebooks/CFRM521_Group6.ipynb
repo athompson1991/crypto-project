{
 "cells": [
  {
   "cell_type": "markdown",
   "metadata": {},
   "source": [
    "# CFRM 521: Predicting Cointegration in Cryptocurrency Prices\n",
    "\n",
    "## Group 6: Alex Thompson, Ryan Johnson, Griffin Collins\n",
    "\n",
    "## Introduction\n",
    "\n",
    "One popular trading strategy is pairs trading, whereby two assets that move at a similar trajectory are traded when a discrepancy in price is detected. For example, suppose the price of Pepsi stock is typically two times the price of Coca Cola stock, but you see one day that the ratio of prices is not two but three. This suggests that Pepsi is overpriced and Coca Cola is underpriced, so you sell Pepsi stock and buy Coca Cola stock, then hold until the multiple of two is reestablished. \n",
    "\n",
    "This assumes that the pairs will move back to their long-run \"spread\" after some amount of time. However, it is not guaranteed that the prices will maintain their relationship, and predicting whether or not they do is the goal of this project."
   ]
  },
  {
   "cell_type": "markdown",
   "metadata": {},
   "source": [
    "## Cryptocurrencies\n",
    "\n",
    "We chose to use cryptocurrencies because they are traded at all times (providing a more continuous time frame), it is easy to get very granular data, and because there is much interest in the area right now generally speaking. The data comes from the Binance exchange and is downloaded using [their API](https://github.com/binance-exchange/binance-official-api-docs/blob/master/rest-api.md). For this project, we look at relationships quoted in USD, but data is available quoted in Bitcoin (BTC) and other cryptocurrencies as well. The primary relationship we look at is that between Bitcoin (BTC) and Ethereum (ETH) prices."
   ]
  },
  {
   "cell_type": "markdown",
   "metadata": {},
   "source": [
    "### Data\n",
    "\n",
    "For convenience, I have packaged much of the code I use on this project into a module. The data from Binance is in 15 minute intervals and filtered to cryptocurrencies with at least 30,000 observations."
   ]
  },
  {
   "cell_type": "code",
   "execution_count": 4,
   "metadata": {},
   "outputs": [],
   "source": [
    "import sys\n",
    "\n",
    "project_dir = '/Users/alex/ml_class/project/'\n",
    "\n",
    "sys.path.append(project_dir)"
   ]
  },
  {
   "cell_type": "code",
   "execution_count": 5,
   "metadata": {},
   "outputs": [
    {
     "data": {
      "text/html": [
       "<div>\n",
       "<style scoped>\n",
       "    .dataframe tbody tr th:only-of-type {\n",
       "        vertical-align: middle;\n",
       "    }\n",
       "\n",
       "    .dataframe tbody tr th {\n",
       "        vertical-align: top;\n",
       "    }\n",
       "\n",
       "    .dataframe thead th {\n",
       "        text-align: right;\n",
       "    }\n",
       "</style>\n",
       "<table border=\"1\" class=\"dataframe\">\n",
       "  <thead>\n",
       "    <tr style=\"text-align: right;\">\n",
       "      <th></th>\n",
       "      <th>ZECETH</th>\n",
       "      <th>TRXETH</th>\n",
       "      <th>XRPETH</th>\n",
       "      <th>BNBBTC</th>\n",
       "      <th>EOSETH</th>\n",
       "      <th>LTCBNB</th>\n",
       "      <th>ADABTC</th>\n",
       "      <th>EOSBNB</th>\n",
       "      <th>LTCETH</th>\n",
       "      <th>XRPBNB</th>\n",
       "      <th>...</th>\n",
       "      <th>EOSBTC</th>\n",
       "      <th>BNBETH</th>\n",
       "      <th>XRPBTC</th>\n",
       "      <th>DASHBTC</th>\n",
       "      <th>EOSUSDT</th>\n",
       "      <th>XMRBTC</th>\n",
       "      <th>ADAETH</th>\n",
       "      <th>ADAUSDT</th>\n",
       "      <th>XRPUSDT</th>\n",
       "      <th>LTCBTC</th>\n",
       "    </tr>\n",
       "    <tr>\n",
       "      <th>time</th>\n",
       "      <th></th>\n",
       "      <th></th>\n",
       "      <th></th>\n",
       "      <th></th>\n",
       "      <th></th>\n",
       "      <th></th>\n",
       "      <th></th>\n",
       "      <th></th>\n",
       "      <th></th>\n",
       "      <th></th>\n",
       "      <th></th>\n",
       "      <th></th>\n",
       "      <th></th>\n",
       "      <th></th>\n",
       "      <th></th>\n",
       "      <th></th>\n",
       "      <th></th>\n",
       "      <th></th>\n",
       "      <th></th>\n",
       "      <th></th>\n",
       "      <th></th>\n",
       "    </tr>\n",
       "  </thead>\n",
       "  <tbody>\n",
       "    <tr>\n",
       "      <th>2018-06-11 11:30:00+00:00</th>\n",
       "      <td>0.37205</td>\n",
       "      <td>0.000090</td>\n",
       "      <td>0.001085</td>\n",
       "      <td>0.002203</td>\n",
       "      <td>0.021298</td>\n",
       "      <td>7.17</td>\n",
       "      <td>0.000026</td>\n",
       "      <td>0.7636</td>\n",
       "      <td>0.20085</td>\n",
       "      <td>0.03872</td>\n",
       "      <td>...</td>\n",
       "      <td>0.001677</td>\n",
       "      <td>0.027988</td>\n",
       "      <td>0.000085</td>\n",
       "      <td>0.040191</td>\n",
       "      <td>11.3498</td>\n",
       "      <td>0.020349</td>\n",
       "      <td>0.000325</td>\n",
       "      <td>0.17274</td>\n",
       "      <td>0.57663</td>\n",
       "      <td>0.015782</td>\n",
       "    </tr>\n",
       "    <tr>\n",
       "      <th>2018-06-11 11:45:00+00:00</th>\n",
       "      <td>0.37247</td>\n",
       "      <td>0.000090</td>\n",
       "      <td>0.001084</td>\n",
       "      <td>0.002211</td>\n",
       "      <td>0.021300</td>\n",
       "      <td>7.15</td>\n",
       "      <td>0.000026</td>\n",
       "      <td>0.7600</td>\n",
       "      <td>0.20050</td>\n",
       "      <td>0.03882</td>\n",
       "      <td>...</td>\n",
       "      <td>0.001680</td>\n",
       "      <td>0.028056</td>\n",
       "      <td>0.000085</td>\n",
       "      <td>0.040079</td>\n",
       "      <td>11.3799</td>\n",
       "      <td>0.020455</td>\n",
       "      <td>0.000325</td>\n",
       "      <td>0.17315</td>\n",
       "      <td>0.57841</td>\n",
       "      <td>0.015775</td>\n",
       "    </tr>\n",
       "    <tr>\n",
       "      <th>2018-06-11 12:00:00+00:00</th>\n",
       "      <td>0.37259</td>\n",
       "      <td>0.000089</td>\n",
       "      <td>0.001085</td>\n",
       "      <td>0.002203</td>\n",
       "      <td>0.021323</td>\n",
       "      <td>7.15</td>\n",
       "      <td>0.000025</td>\n",
       "      <td>0.7578</td>\n",
       "      <td>0.20033</td>\n",
       "      <td>0.03848</td>\n",
       "      <td>...</td>\n",
       "      <td>0.001676</td>\n",
       "      <td>0.027979</td>\n",
       "      <td>0.000085</td>\n",
       "      <td>0.039889</td>\n",
       "      <td>11.3400</td>\n",
       "      <td>0.020329</td>\n",
       "      <td>0.000323</td>\n",
       "      <td>0.17165</td>\n",
       "      <td>0.57586</td>\n",
       "      <td>0.015780</td>\n",
       "    </tr>\n",
       "    <tr>\n",
       "      <th>2018-06-11 12:15:00+00:00</th>\n",
       "      <td>0.37257</td>\n",
       "      <td>0.000089</td>\n",
       "      <td>0.001083</td>\n",
       "      <td>0.002192</td>\n",
       "      <td>0.021271</td>\n",
       "      <td>7.20</td>\n",
       "      <td>0.000025</td>\n",
       "      <td>0.7644</td>\n",
       "      <td>0.20012</td>\n",
       "      <td>0.03885</td>\n",
       "      <td>...</td>\n",
       "      <td>0.001672</td>\n",
       "      <td>0.027871</td>\n",
       "      <td>0.000085</td>\n",
       "      <td>0.039880</td>\n",
       "      <td>11.2840</td>\n",
       "      <td>0.020312</td>\n",
       "      <td>0.000322</td>\n",
       "      <td>0.17100</td>\n",
       "      <td>0.57455</td>\n",
       "      <td>0.015770</td>\n",
       "    </tr>\n",
       "    <tr>\n",
       "      <th>2018-06-11 12:30:00+00:00</th>\n",
       "      <td>0.37414</td>\n",
       "      <td>0.000089</td>\n",
       "      <td>0.001086</td>\n",
       "      <td>0.002173</td>\n",
       "      <td>0.021336</td>\n",
       "      <td>7.26</td>\n",
       "      <td>0.000025</td>\n",
       "      <td>0.7701</td>\n",
       "      <td>0.20114</td>\n",
       "      <td>0.03927</td>\n",
       "      <td>...</td>\n",
       "      <td>0.001675</td>\n",
       "      <td>0.027627</td>\n",
       "      <td>0.000085</td>\n",
       "      <td>0.039793</td>\n",
       "      <td>11.2929</td>\n",
       "      <td>0.020360</td>\n",
       "      <td>0.000322</td>\n",
       "      <td>0.17072</td>\n",
       "      <td>0.57595</td>\n",
       "      <td>0.015771</td>\n",
       "    </tr>\n",
       "  </tbody>\n",
       "</table>\n",
       "<p>5 rows × 31 columns</p>\n",
       "</div>"
      ],
      "text/plain": [
       "                            ZECETH    TRXETH    XRPETH    BNBBTC    EOSETH  \\\n",
       "time                                                                         \n",
       "2018-06-11 11:30:00+00:00  0.37205  0.000090  0.001085  0.002203  0.021298   \n",
       "2018-06-11 11:45:00+00:00  0.37247  0.000090  0.001084  0.002211  0.021300   \n",
       "2018-06-11 12:00:00+00:00  0.37259  0.000089  0.001085  0.002203  0.021323   \n",
       "2018-06-11 12:15:00+00:00  0.37257  0.000089  0.001083  0.002192  0.021271   \n",
       "2018-06-11 12:30:00+00:00  0.37414  0.000089  0.001086  0.002173  0.021336   \n",
       "\n",
       "                           LTCBNB    ADABTC  EOSBNB   LTCETH   XRPBNB  ...  \\\n",
       "time                                                                   ...   \n",
       "2018-06-11 11:30:00+00:00    7.17  0.000026  0.7636  0.20085  0.03872  ...   \n",
       "2018-06-11 11:45:00+00:00    7.15  0.000026  0.7600  0.20050  0.03882  ...   \n",
       "2018-06-11 12:00:00+00:00    7.15  0.000025  0.7578  0.20033  0.03848  ...   \n",
       "2018-06-11 12:15:00+00:00    7.20  0.000025  0.7644  0.20012  0.03885  ...   \n",
       "2018-06-11 12:30:00+00:00    7.26  0.000025  0.7701  0.20114  0.03927  ...   \n",
       "\n",
       "                             EOSBTC    BNBETH    XRPBTC   DASHBTC  EOSUSDT  \\\n",
       "time                                                                         \n",
       "2018-06-11 11:30:00+00:00  0.001677  0.027988  0.000085  0.040191  11.3498   \n",
       "2018-06-11 11:45:00+00:00  0.001680  0.028056  0.000085  0.040079  11.3799   \n",
       "2018-06-11 12:00:00+00:00  0.001676  0.027979  0.000085  0.039889  11.3400   \n",
       "2018-06-11 12:15:00+00:00  0.001672  0.027871  0.000085  0.039880  11.2840   \n",
       "2018-06-11 12:30:00+00:00  0.001675  0.027627  0.000085  0.039793  11.2929   \n",
       "\n",
       "                             XMRBTC    ADAETH  ADAUSDT  XRPUSDT    LTCBTC  \n",
       "time                                                                       \n",
       "2018-06-11 11:30:00+00:00  0.020349  0.000325  0.17274  0.57663  0.015782  \n",
       "2018-06-11 11:45:00+00:00  0.020455  0.000325  0.17315  0.57841  0.015775  \n",
       "2018-06-11 12:00:00+00:00  0.020329  0.000323  0.17165  0.57586  0.015780  \n",
       "2018-06-11 12:15:00+00:00  0.020312  0.000322  0.17100  0.57455  0.015770  \n",
       "2018-06-11 12:30:00+00:00  0.020360  0.000322  0.17072  0.57595  0.015771  \n",
       "\n",
       "[5 rows x 31 columns]"
      ]
     },
     "execution_count": 5,
     "metadata": {},
     "output_type": "execute_result"
    }
   ],
   "source": [
    "from core.utils import get_dfs, get_good_dfs, get_close_prices\n",
    "import warnings\n",
    "\n",
    "warnings.simplefilter(action='ignore', category=FutureWarning)\n",
    "warnings.simplefilter(action='ignore', category=RuntimeWarning)\n",
    "\n",
    "dfs = get_dfs(\"../data\")\n",
    "good_dfs = get_good_dfs(dfs, 30000)\n",
    "closes = get_close_prices(good_dfs)\n",
    "closes.head()"
   ]
  },
  {
   "cell_type": "markdown",
   "metadata": {},
   "source": [
    "Notice that there are quotes in many different cryptocurrencies (BTC, ETH, USDT, others). Also, there is a problem with the data, initially, which is that there are gaps in the time index - when the exchange is down, for example. These need to be filled in and the dataframe will be filtered to USDT we will have a nice dataframe of prices."
   ]
  },
  {
   "cell_type": "code",
   "execution_count": 6,
   "metadata": {},
   "outputs": [
    {
     "data": {
      "text/html": [
       "<div>\n",
       "<style scoped>\n",
       "    .dataframe tbody tr th:only-of-type {\n",
       "        vertical-align: middle;\n",
       "    }\n",
       "\n",
       "    .dataframe tbody tr th {\n",
       "        vertical-align: top;\n",
       "    }\n",
       "\n",
       "    .dataframe thead th {\n",
       "        text-align: right;\n",
       "    }\n",
       "</style>\n",
       "<table border=\"1\" class=\"dataframe\">\n",
       "  <thead>\n",
       "    <tr style=\"text-align: right;\">\n",
       "      <th></th>\n",
       "      <th>BNBUSDT</th>\n",
       "      <th>LTCUSDT</th>\n",
       "      <th>TRXUSDT</th>\n",
       "      <th>ETHUSDT</th>\n",
       "      <th>BTCUSDT</th>\n",
       "      <th>EOSUSDT</th>\n",
       "      <th>ADAUSDT</th>\n",
       "      <th>XRPUSDT</th>\n",
       "    </tr>\n",
       "    <tr>\n",
       "      <th>time</th>\n",
       "      <th></th>\n",
       "      <th></th>\n",
       "      <th></th>\n",
       "      <th></th>\n",
       "      <th></th>\n",
       "      <th></th>\n",
       "      <th></th>\n",
       "      <th></th>\n",
       "    </tr>\n",
       "  </thead>\n",
       "  <tbody>\n",
       "    <tr>\n",
       "      <th>2018-06-11 11:30:00+00:00</th>\n",
       "      <td>14.8715</td>\n",
       "      <td>106.75</td>\n",
       "      <td>0.04783</td>\n",
       "      <td>531.73</td>\n",
       "      <td>6759.10</td>\n",
       "      <td>11.3498</td>\n",
       "      <td>0.17274</td>\n",
       "      <td>0.57663</td>\n",
       "    </tr>\n",
       "    <tr>\n",
       "      <th>2018-06-11 11:45:00+00:00</th>\n",
       "      <td>14.9664</td>\n",
       "      <td>106.95</td>\n",
       "      <td>0.04787</td>\n",
       "      <td>533.54</td>\n",
       "      <td>6770.56</td>\n",
       "      <td>11.3799</td>\n",
       "      <td>0.17315</td>\n",
       "      <td>0.57841</td>\n",
       "    </tr>\n",
       "    <tr>\n",
       "      <th>2018-06-11 12:00:00+00:00</th>\n",
       "      <td>14.8808</td>\n",
       "      <td>106.73</td>\n",
       "      <td>0.04755</td>\n",
       "      <td>531.85</td>\n",
       "      <td>6754.61</td>\n",
       "      <td>11.3400</td>\n",
       "      <td>0.17165</td>\n",
       "      <td>0.57586</td>\n",
       "    </tr>\n",
       "    <tr>\n",
       "      <th>2018-06-11 12:15:00+00:00</th>\n",
       "      <td>14.8014</td>\n",
       "      <td>106.30</td>\n",
       "      <td>0.04701</td>\n",
       "      <td>531.20</td>\n",
       "      <td>6752.21</td>\n",
       "      <td>11.2840</td>\n",
       "      <td>0.17100</td>\n",
       "      <td>0.57455</td>\n",
       "    </tr>\n",
       "    <tr>\n",
       "      <th>2018-06-11 12:30:00+00:00</th>\n",
       "      <td>14.6275</td>\n",
       "      <td>106.45</td>\n",
       "      <td>0.04702</td>\n",
       "      <td>529.47</td>\n",
       "      <td>6738.42</td>\n",
       "      <td>11.2929</td>\n",
       "      <td>0.17072</td>\n",
       "      <td>0.57595</td>\n",
       "    </tr>\n",
       "  </tbody>\n",
       "</table>\n",
       "</div>"
      ],
      "text/plain": [
       "                           BNBUSDT  LTCUSDT  TRXUSDT  ETHUSDT  BTCUSDT  \\\n",
       "time                                                                     \n",
       "2018-06-11 11:30:00+00:00  14.8715   106.75  0.04783   531.73  6759.10   \n",
       "2018-06-11 11:45:00+00:00  14.9664   106.95  0.04787   533.54  6770.56   \n",
       "2018-06-11 12:00:00+00:00  14.8808   106.73  0.04755   531.85  6754.61   \n",
       "2018-06-11 12:15:00+00:00  14.8014   106.30  0.04701   531.20  6752.21   \n",
       "2018-06-11 12:30:00+00:00  14.6275   106.45  0.04702   529.47  6738.42   \n",
       "\n",
       "                           EOSUSDT  ADAUSDT  XRPUSDT  \n",
       "time                                                  \n",
       "2018-06-11 11:30:00+00:00  11.3498  0.17274  0.57663  \n",
       "2018-06-11 11:45:00+00:00  11.3799  0.17315  0.57841  \n",
       "2018-06-11 12:00:00+00:00  11.3400  0.17165  0.57586  \n",
       "2018-06-11 12:15:00+00:00  11.2840  0.17100  0.57455  \n",
       "2018-06-11 12:30:00+00:00  11.2929  0.17072  0.57595  "
      ]
     },
     "execution_count": 6,
     "metadata": {},
     "output_type": "execute_result"
    }
   ],
   "source": [
    "from core.utils import get_pairs, fix_gaps_in_data, calc_log_prices\n",
    "\n",
    "closes = fix_gaps_in_data(closes)\n",
    "pairs = get_pairs(good_dfs)\n",
    "closes_usdt = closes[pairs['USD']]\n",
    "closes_usdt.head()"
   ]
  },
  {
   "cell_type": "code",
   "execution_count": 7,
   "metadata": {},
   "outputs": [
    {
     "data": {
      "text/plain": [
       "[<matplotlib.lines.Line2D at 0x12ea5eac8>]"
      ]
     },
     "execution_count": 7,
     "metadata": {},
     "output_type": "execute_result"
    },
    {
     "data": {
      "image/png": "[encoded data removed]",
      "text/plain": [
       "<Figure size 432x288 with 1 Axes>"
      ]
     },
     "metadata": {
      "needs_background": "light"
     },
     "output_type": "display_data"
    }
   ],
   "source": [
    "import matplotlib.pyplot as plt\n",
    "import numpy as np\n",
    "import pandas as pd\n",
    "%matplotlib inline\n",
    "\n",
    "log_df = calc_log_prices(closes_usdt)\n",
    "btc = log_df['BTCUSDT']\n",
    "eth = log_df['ETHUSDT']\n",
    "plt.plot(btc)"
   ]
  },
  {
   "cell_type": "code",
   "execution_count": 8,
   "metadata": {},
   "outputs": [
    {
     "data": {
      "text/plain": [
       "[<matplotlib.lines.Line2D at 0x12eef5358>]"
      ]
     },
     "execution_count": 8,
     "metadata": {},
     "output_type": "execute_result"
    },
    {
     "data": {
      "image/png": "[encoded data removed]",
      "text/plain": [
       "<Figure size 432x288 with 1 Axes>"
      ]
     },
     "metadata": {
      "needs_background": "light"
     },
     "output_type": "display_data"
    }
   ],
   "source": [
    "plt.plot(eth)"
   ]
  },
  {
   "cell_type": "code",
   "execution_count": 9,
   "metadata": {},
   "outputs": [
    {
     "data": {
      "text/html": [
       "<div>\n",
       "<style scoped>\n",
       "    .dataframe tbody tr th:only-of-type {\n",
       "        vertical-align: middle;\n",
       "    }\n",
       "\n",
       "    .dataframe tbody tr th {\n",
       "        vertical-align: top;\n",
       "    }\n",
       "\n",
       "    .dataframe thead th {\n",
       "        text-align: right;\n",
       "    }\n",
       "</style>\n",
       "<table border=\"1\" class=\"dataframe\">\n",
       "  <thead>\n",
       "    <tr style=\"text-align: right;\">\n",
       "      <th></th>\n",
       "      <th>BNBUSDT</th>\n",
       "      <th>LTCUSDT</th>\n",
       "      <th>TRXUSDT</th>\n",
       "      <th>ETHUSDT</th>\n",
       "      <th>BTCUSDT</th>\n",
       "      <th>EOSUSDT</th>\n",
       "      <th>ADAUSDT</th>\n",
       "      <th>XRPUSDT</th>\n",
       "    </tr>\n",
       "  </thead>\n",
       "  <tbody>\n",
       "    <tr>\n",
       "      <th>BNBUSDT</th>\n",
       "      <td>1.000000</td>\n",
       "      <td>0.906205</td>\n",
       "      <td>0.578379</td>\n",
       "      <td>0.461906</td>\n",
       "      <td>0.560689</td>\n",
       "      <td>0.669280</td>\n",
       "      <td>0.570211</td>\n",
       "      <td>0.096426</td>\n",
       "    </tr>\n",
       "    <tr>\n",
       "      <th>LTCUSDT</th>\n",
       "      <td>0.906205</td>\n",
       "      <td>1.000000</td>\n",
       "      <td>0.727757</td>\n",
       "      <td>0.757928</td>\n",
       "      <td>0.772417</td>\n",
       "      <td>0.899883</td>\n",
       "      <td>0.839774</td>\n",
       "      <td>0.364208</td>\n",
       "    </tr>\n",
       "    <tr>\n",
       "      <th>TRXUSDT</th>\n",
       "      <td>0.578379</td>\n",
       "      <td>0.727757</td>\n",
       "      <td>1.000000</td>\n",
       "      <td>0.733843</td>\n",
       "      <td>0.482909</td>\n",
       "      <td>0.699370</td>\n",
       "      <td>0.741298</td>\n",
       "      <td>0.432130</td>\n",
       "    </tr>\n",
       "    <tr>\n",
       "      <th>ETHUSDT</th>\n",
       "      <td>0.461906</td>\n",
       "      <td>0.757928</td>\n",
       "      <td>0.733843</td>\n",
       "      <td>1.000000</td>\n",
       "      <td>0.833640</td>\n",
       "      <td>0.915164</td>\n",
       "      <td>0.963032</td>\n",
       "      <td>0.613163</td>\n",
       "    </tr>\n",
       "    <tr>\n",
       "      <th>BTCUSDT</th>\n",
       "      <td>0.560689</td>\n",
       "      <td>0.772417</td>\n",
       "      <td>0.482909</td>\n",
       "      <td>0.833640</td>\n",
       "      <td>1.000000</td>\n",
       "      <td>0.894747</td>\n",
       "      <td>0.854342</td>\n",
       "      <td>0.574942</td>\n",
       "    </tr>\n",
       "    <tr>\n",
       "      <th>EOSUSDT</th>\n",
       "      <td>0.669280</td>\n",
       "      <td>0.899883</td>\n",
       "      <td>0.699370</td>\n",
       "      <td>0.915164</td>\n",
       "      <td>0.894747</td>\n",
       "      <td>1.000000</td>\n",
       "      <td>0.946963</td>\n",
       "      <td>0.624275</td>\n",
       "    </tr>\n",
       "    <tr>\n",
       "      <th>ADAUSDT</th>\n",
       "      <td>0.570211</td>\n",
       "      <td>0.839774</td>\n",
       "      <td>0.741298</td>\n",
       "      <td>0.963032</td>\n",
       "      <td>0.854342</td>\n",
       "      <td>0.946963</td>\n",
       "      <td>1.000000</td>\n",
       "      <td>0.572469</td>\n",
       "    </tr>\n",
       "    <tr>\n",
       "      <th>XRPUSDT</th>\n",
       "      <td>0.096426</td>\n",
       "      <td>0.364208</td>\n",
       "      <td>0.432130</td>\n",
       "      <td>0.613163</td>\n",
       "      <td>0.574942</td>\n",
       "      <td>0.624275</td>\n",
       "      <td>0.572469</td>\n",
       "      <td>1.000000</td>\n",
       "    </tr>\n",
       "  </tbody>\n",
       "</table>\n",
       "</div>"
      ],
      "text/plain": [
       "          BNBUSDT   LTCUSDT   TRXUSDT   ETHUSDT   BTCUSDT   EOSUSDT   ADAUSDT  \\\n",
       "BNBUSDT  1.000000  0.906205  0.578379  0.461906  0.560689  0.669280  0.570211   \n",
       "LTCUSDT  0.906205  1.000000  0.727757  0.757928  0.772417  0.899883  0.839774   \n",
       "TRXUSDT  0.578379  0.727757  1.000000  0.733843  0.482909  0.699370  0.741298   \n",
       "ETHUSDT  0.461906  0.757928  0.733843  1.000000  0.833640  0.915164  0.963032   \n",
       "BTCUSDT  0.560689  0.772417  0.482909  0.833640  1.000000  0.894747  0.854342   \n",
       "EOSUSDT  0.669280  0.899883  0.699370  0.915164  0.894747  1.000000  0.946963   \n",
       "ADAUSDT  0.570211  0.839774  0.741298  0.963032  0.854342  0.946963  1.000000   \n",
       "XRPUSDT  0.096426  0.364208  0.432130  0.613163  0.574942  0.624275  0.572469   \n",
       "\n",
       "          XRPUSDT  \n",
       "BNBUSDT  0.096426  \n",
       "LTCUSDT  0.364208  \n",
       "TRXUSDT  0.432130  \n",
       "ETHUSDT  0.613163  \n",
       "BTCUSDT  0.574942  \n",
       "EOSUSDT  0.624275  \n",
       "ADAUSDT  0.572469  \n",
       "XRPUSDT  1.000000  "
      ]
     },
     "execution_count": 9,
     "metadata": {},
     "output_type": "execute_result"
    }
   ],
   "source": [
    "log_df.corr()"
   ]
  },
  {
   "cell_type": "markdown",
   "metadata": {},
   "source": [
    "## Cointegration\n",
    "\n",
    "The goal is to know when to and when not to engage in pairs trading, so we need a measure of how well assets move together. To this end, the concept of cointegration is helpful. \n",
    "\n",
    "Let $y_t$ and $x_t$ be a pair of $I(1)$ non-stationary time series variables. If there is a *cointegrating factor* $\\beta$ such that $y_t + \\beta x_t = u_t$ where $u_t$ is a stationary process, then the two series $y_t, x_t$ are said to be cointegrated. For our purposes, $u_t$ can be considered the pricing discrepancy that we will trade on.\n",
    "\n",
    "### Engle-Granger Two Step Method\n",
    "\n",
    "One test to determine cointegration is known as the Engle-Granger two step method. The two steps are:\n",
    "\n",
    "1. Estimate the regression $\\hat{y_t} = \\hat{\\alpha} + \\hat{\\beta} x_t + \\hat{u_t}$\n",
    "2. Test the residuals $\\hat{u_t}$ for a unit root\n",
    "\n",
    "We use the Dickey-Fuller unit root test for the second step and OLS for the first."
   ]
  },
  {
   "cell_type": "markdown",
   "metadata": {},
   "source": [
    "### Cointegration between BTC and ETH\n",
    "\n",
    "The two assets we want to inspect for cointegration are Bitcoin and Ethereum. For demonstration purposes, I have cherry-picked a period in the time series where they are indeed cointegrated and will prove it below. For the plot, I've scaled the values to be near each other."
   ]
  },
  {
   "cell_type": "code",
   "execution_count": 10,
   "metadata": {},
   "outputs": [
    {
     "data": {
      "image/png": "[encoded data removed]",
      "text/plain": [
       "<Figure size 432x288 with 2 Axes>"
      ]
     },
     "metadata": {
      "needs_background": "light"
     },
     "output_type": "display_data"
    }
   ],
   "source": [
    "date = '2019-01-05'\n",
    "start = int(np.where(log_df.index == date)[0])\n",
    "end = int(np.where(log_df.index == date)[0] + 100)\n",
    "\n",
    "btc = log_df['BTCUSDT'][start:end]\n",
    "eth = log_df['ETHUSDT'][start:end]\n",
    "\n",
    "fig, ax1 = plt.subplots()\n",
    "ax2 = ax1.twinx()\n",
    "\n",
    "ax1.plot(btc, color=\"red\")\n",
    "ax2.plot(eth, color=\"blue\")\n",
    "fig.autofmt_xdate(rotation=45)"
   ]
  },
  {
   "cell_type": "markdown",
   "metadata": {},
   "source": [
    "To prove this is cointegrated, we do the Engle Granger approach described above"
   ]
  },
  {
   "cell_type": "code",
   "execution_count": 11,
   "metadata": {},
   "outputs": [
    {
     "name": "stdout",
     "output_type": "stream",
     "text": [
      "[0.34100285]\n",
      "6.522231543054636\n"
     ]
    }
   ],
   "source": [
    "from sklearn.linear_model import LinearRegression\n",
    "\n",
    "eth_array = np.array(eth).reshape(-1, 1)\n",
    "btc_array = np.array(btc)\n",
    "\n",
    "regression = LinearRegression()\n",
    "regression.fit(eth_array, btc_array)\n",
    "print(regression.coef_)\n",
    "print(regression.intercept_)"
   ]
  },
  {
   "cell_type": "code",
   "execution_count": 12,
   "metadata": {},
   "outputs": [
    {
     "data": {
      "text/plain": [
       "[<matplotlib.lines.Line2D at 0x12fa27518>]"
      ]
     },
     "execution_count": 12,
     "metadata": {},
     "output_type": "execute_result"
    },
    {
     "data": {
      "image/png": "[encoded data removed]",
      "text/plain": [
       "<Figure size 432x288 with 1 Axes>"
      ]
     },
     "metadata": {
      "needs_background": "light"
     },
     "output_type": "display_data"
    }
   ],
   "source": [
    "btc_hat = regression.predict(eth_array)\n",
    "residuals = btc_array - btc_hat\n",
    "plt.plot(residuals)"
   ]
  },
  {
   "cell_type": "markdown",
   "metadata": {},
   "source": [
    "We can see that the residuals of the model are mean reverting, and now we test this using the Dickey Fuller test"
   ]
  },
  {
   "cell_type": "code",
   "execution_count": 13,
   "metadata": {},
   "outputs": [
    {
     "data": {
      "text/plain": [
       "(-3.6553909792347588,\n",
       " 0.004786215496236841,\n",
       " 0,\n",
       " 99,\n",
       " {'1%': -3.498198082189098,\n",
       "  '5%': -2.891208211860468,\n",
       "  '10%': -2.5825959973472097},\n",
       " -947.9629448288958)"
      ]
     },
     "execution_count": 13,
     "metadata": {},
     "output_type": "execute_result"
    }
   ],
   "source": [
    "import statsmodels.tsa.stattools as ts\n",
    "ts.adfuller(residuals)"
   ]
  },
  {
   "cell_type": "markdown",
   "metadata": {},
   "source": [
    "The first value is the test statistic from the Dickey Fuller test, and the second is the p-value. As we can see, the two time series are cointegrated at the 1% level."
   ]
  },
  {
   "cell_type": "markdown",
   "metadata": {},
   "source": [
    "Suppose you were partying all night and slept the entire day, so your trading started at 5:30 in the afternoon rather than midnight on 2019-01-05. At this time, we find an example of non-cointegration between BTC and ETH."
   ]
  },
  {
   "cell_type": "code",
   "execution_count": 14,
   "metadata": {},
   "outputs": [
    {
     "data": {
      "image/png": "[encoded data removed]",
      "text/plain": [
       "<Figure size 432x288 with 2 Axes>"
      ]
     },
     "metadata": {
      "needs_background": "light"
     },
     "output_type": "display_data"
    }
   ],
   "source": [
    "date = '2019-01-05 17:30:00+0000'\n",
    "start = int(np.where(log_df.index == date)[0])\n",
    "end = int(np.where(log_df.index == date)[0] + 100)\n",
    "\n",
    "btc = log_df['BTCUSDT'][start:end]\n",
    "eth = log_df['ETHUSDT'][start:end]\n",
    "\n",
    "fig, ax1 = plt.subplots()\n",
    "ax2 = ax1.twinx()\n",
    "\n",
    "ax1.plot(btc, color=\"red\")\n",
    "ax2.plot(eth, color=\"blue\")\n",
    "fig.autofmt_xdate(rotation=45)"
   ]
  },
  {
   "cell_type": "markdown",
   "metadata": {},
   "source": [
    "The point is that there are less cross overs with this and therefore less pair trading opportunities."
   ]
  },
  {
   "cell_type": "code",
   "execution_count": 15,
   "metadata": {},
   "outputs": [
    {
     "name": "stdout",
     "output_type": "stream",
     "text": [
      "[0.48359667]\n",
      "5.81230086220989\n"
     ]
    }
   ],
   "source": [
    "eth_array = np.array(eth).reshape(-1, 1)\n",
    "btc_array = np.array(btc)\n",
    "\n",
    "regression = LinearRegression()\n",
    "regression.fit(eth_array, btc_array)\n",
    "print(regression.coef_)\n",
    "print(regression.intercept_)"
   ]
  },
  {
   "cell_type": "code",
   "execution_count": 16,
   "metadata": {},
   "outputs": [
    {
     "data": {
      "text/plain": [
       "[<matplotlib.lines.Line2D at 0x130f09f98>]"
      ]
     },
     "execution_count": 16,
     "metadata": {},
     "output_type": "execute_result"
    },
    {
     "data": {
      "image/png": "[encoded data removed]",
      "text/plain": [
       "<Figure size 432x288 with 1 Axes>"
      ]
     },
     "metadata": {
      "needs_background": "light"
     },
     "output_type": "display_data"
    }
   ],
   "source": [
    "btc_hat = regression.predict(eth_array)\n",
    "residuals = btc_array - btc_hat\n",
    "plt.plot(residuals)"
   ]
  },
  {
   "cell_type": "code",
   "execution_count": 17,
   "metadata": {},
   "outputs": [
    {
     "data": {
      "text/plain": [
       "(1.0846729767379113,\n",
       " 0.9950836663843439,\n",
       " 0,\n",
       " 99,\n",
       " {'1%': -3.498198082189098,\n",
       "  '5%': -2.891208211860468,\n",
       "  '10%': -2.5825959973472097},\n",
       " -729.7914766563806)"
      ]
     },
     "execution_count": 17,
     "metadata": {},
     "output_type": "execute_result"
    }
   ],
   "source": [
    "ts.adfuller(residuals)"
   ]
  },
  {
   "cell_type": "markdown",
   "metadata": {},
   "source": [
    "The residuals are clearly non-stationary with this period"
   ]
  },
  {
   "cell_type": "markdown",
   "metadata": {},
   "source": [
    "## Rolling Analysis\n",
    "\n",
    "In the above example, the period of analysis is 100 observations of 15 minute observations. The question of interest is how this data changes over time. To accomplish this, we construct both the target variable and the features for the machine learning models using a rolling calculation."
   ]
  },
  {
   "cell_type": "code",
   "execution_count": 18,
   "metadata": {},
   "outputs": [],
   "source": [
    "from core.rolling_analysis import RollingAnalyzer\n",
    "\n",
    "m = 100\n",
    "\n",
    "rolling_analyzer = RollingAnalyzer(log_df, m)\n",
    "rolling_analyzer.make_dfs()\n",
    "rolling_analyzer.make_pairs()\n",
    "rolling_analyzer.run_regressions('ETHUSDT', 'BTCUSDT')\n",
    "rolling_analyzer.calc_dickey_fuller('ETHUSDT', 'BTCUSDT')"
   ]
  },
  {
   "cell_type": "markdown",
   "metadata": {},
   "source": [
    "### Response variable: the p-value of the Dickey Fuller Test"
   ]
  },
  {
   "cell_type": "markdown",
   "metadata": {},
   "source": [
    "The goal is to identify the windows of time when the pairs trading strategy makes the most sense, so the target variable chosen is the p-value of the Dickey-Fuller test. This has already been calculated and can be exported now to a dataframe, then plotted."
   ]
  },
  {
   "cell_type": "code",
   "execution_count": 19,
   "metadata": {},
   "outputs": [
    {
     "data": {
      "text/plain": [
       "[<matplotlib.lines.Line2D at 0x1412a6e48>]"
      ]
     },
     "execution_count": 19,
     "metadata": {},
     "output_type": "execute_result"
    },
    {
     "data": {
      "image/png": "[encoded data removed]",
      "text/plain": [
       "<Figure size 432x288 with 1 Axes>"
      ]
     },
     "metadata": {
      "needs_background": "light"
     },
     "output_type": "display_data"
    }
   ],
   "source": [
    "dickey_fuller_roll = rolling_analyzer.export_dickey_fuller_df()\n",
    "plt.plot(dickey_fuller_roll)"
   ]
  },
  {
   "cell_type": "markdown",
   "metadata": {},
   "source": [
    "This is clearly a mess, so I will zoom in on a shorter period of time (first week of 2019)"
   ]
  },
  {
   "cell_type": "code",
   "execution_count": 20,
   "metadata": {},
   "outputs": [
    {
     "data": {
      "text/plain": [
       "(array([737060., 737061., 737062., 737063., 737064., 737065., 737066.,\n",
       "        737067.]), <a list of 8 Text xticklabel objects>)"
      ]
     },
     "execution_count": 20,
     "metadata": {},
     "output_type": "execute_result"
    },
    {
     "data": {
      "image/png": "[encoded data removed]",
      "text/plain": [
       "<Figure size 432x288 with 1 Axes>"
      ]
     },
     "metadata": {
      "needs_background": "light"
     },
     "output_type": "display_data"
    }
   ],
   "source": [
    "plt.plot(dickey_fuller_roll['2019-01-01':'2019-01-07'])\n",
    "plt.xticks(rotation=45, ha='right')"
   ]
  },
  {
   "cell_type": "markdown",
   "metadata": {},
   "source": [
    "Notice that value is between 0 and 1 because it is a p-value. We can transform this to be between negative infinity and infinity using the same transformation as in the logistic regression"
   ]
  },
  {
   "cell_type": "code",
   "execution_count": 21,
   "metadata": {},
   "outputs": [
    {
     "data": {
      "text/plain": [
       "(array([737060., 737061., 737062., 737063., 737064., 737065., 737066.,\n",
       "        737067.]), <a list of 8 Text xticklabel objects>)"
      ]
     },
     "execution_count": 21,
     "metadata": {},
     "output_type": "execute_result"
    },
    {
     "data": {
      "image/png": "[encoded data removed]",
      "text/plain": [
       "<Figure size 432x288 with 1 Axes>"
      ]
     },
     "metadata": {
      "needs_background": "light"
     },
     "output_type": "display_data"
    }
   ],
   "source": [
    "def to_infinity(x):\n",
    "    return np.log(x/(1-x))\n",
    "    \n",
    "df_infinity = to_infinity(dickey_fuller_roll).replace([np.inf, -np.inf], 0)\n",
    "plt.plot(df_infinity['2019-01-01':'2019-01-07'])\n",
    "plt.xticks(rotation=45, ha='right')"
   ]
  },
  {
   "cell_type": "markdown",
   "metadata": {},
   "source": [
    "This is the target variable we would like to forecast using machine learning."
   ]
  },
  {
   "cell_type": "markdown",
   "metadata": {},
   "source": [
    "Because this is a rolled time series, we expect autocorrelation"
   ]
  },
  {
   "cell_type": "code",
   "execution_count": 22,
   "metadata": {},
   "outputs": [
    {
     "data": {
      "text/plain": [
       "(0, 110)"
      ]
     },
     "execution_count": 22,
     "metadata": {},
     "output_type": "execute_result"
    },
    {
     "data": {
      "image/png": "[encoded data removed]",
      "text/plain": [
       "<Figure size 432x288 with 1 Axes>"
      ]
     },
     "metadata": {
      "needs_background": "light"
     },
     "output_type": "display_data"
    }
   ],
   "source": [
    "from statsmodels.graphics.tsaplots import plot_acf\n",
    "plot_acf(df_infinity)\n",
    "plt.xlim(0, 110)"
   ]
  },
  {
   "cell_type": "markdown",
   "metadata": {},
   "source": [
    "Clearly this can easily be forecast already because of the autocorrelation. However, because of the rolling, we wish to forecast the next step *by the rolling window* and not simply one observation ahead. From the autocorrelation plot, we see there is little correlation between the current p-value and the one 100 observations away."
   ]
  },
  {
   "cell_type": "markdown",
   "metadata": {},
   "source": [
    "### Feature variables: rolled statistics"
   ]
  },
  {
   "cell_type": "markdown",
   "metadata": {},
   "source": [
    "We now introduce the other features besides lagged p-values for the machine learning models. These are calculated as rolled mean returns and volatility over the same period. "
   ]
  },
  {
   "cell_type": "code",
   "execution_count": 23,
   "metadata": {},
   "outputs": [],
   "source": [
    "rolling_analyzer.calc_all_returns_stats()\n",
    "mean_returns_df = rolling_analyzer.export_returns_stats_df(stat='mean_return')\n",
    "volatility_df = rolling_analyzer.export_returns_stats_df(stat='volatility')"
   ]
  },
  {
   "cell_type": "code",
   "execution_count": 24,
   "metadata": {},
   "outputs": [
    {
     "data": {
      "text/plain": [
       "(array([737060., 737061., 737062., 737063., 737064., 737065., 737066.,\n",
       "        737067.]), <a list of 8 Text xticklabel objects>)"
      ]
     },
     "execution_count": 24,
     "metadata": {},
     "output_type": "execute_result"
    },
    {
     "data": {
      "image/png": "[encoded data removed]",
      "text/plain": [
       "<Figure size 432x288 with 1 Axes>"
      ]
     },
     "metadata": {
      "needs_background": "light"
     },
     "output_type": "display_data"
    }
   ],
   "source": [
    "plt.plot(mean_returns_df['2019-01-01':'2019-01-07'])\n",
    "plt.xticks(rotation=45, ha='right')"
   ]
  },
  {
   "cell_type": "code",
   "execution_count": 25,
   "metadata": {},
   "outputs": [
    {
     "data": {
      "text/plain": [
       "(array([737060., 737061., 737062., 737063., 737064., 737065., 737066.,\n",
       "        737067.]), <a list of 8 Text xticklabel objects>)"
      ]
     },
     "execution_count": 25,
     "metadata": {},
     "output_type": "execute_result"
    },
    {
     "data": {
      "image/png": "[encoded data removed]",
      "text/plain": [
       "<Figure size 432x288 with 1 Axes>"
      ]
     },
     "metadata": {
      "needs_background": "light"
     },
     "output_type": "display_data"
    }
   ],
   "source": [
    "plt.plot(volatility_df['2019-01-01':'2019-01-07'])\n",
    "plt.xticks(rotation=45, ha='right')"
   ]
  },
  {
   "cell_type": "markdown",
   "metadata": {},
   "source": [
    "There are many statistics that can be generated for use as features with the rolling period - Sharpe ratio, skewness and kurtosis, correlation, etc. We can even produce the rolled cointegration measures for the other asset pairs and use that as a feature to the model. Discovering whether or not these features produce explanatory power in future cointegration is the goal of the project."
   ]
  },
  {
   "cell_type": "markdown",
   "metadata": {},
   "source": [
    "## Multivariate Forecasting and Model Performance\n",
    "\n",
    "Unlike with the regressions we have gone over in class that predict one response variable, a time series forecast requires many simultaneous predictions. For this project, we wish to predict 100 future values based on the current state of the market, which is a considerable complication of time series modeling.\n",
    "\n",
    "For example, we wish to predict the next hundred values at the current 15 minute $t$, predict a hundred again in 15 minutes, and so on. This means that our response variable $\\hat{y}$ is in fact a matrix of response variables, $\\hat{Y}$ with $T$ rows from $t=0$ to $T$ and $m$ columns from $n=1$ to $m=100$. Fortunately, scikit-learn provides a class `MultiOutputRegressor` that addresses this concern.\n",
    "\n",
    "This introduces some interesting concerns with regard to model performance. Each row has an MSE associated with it, and then the MSE of each row can be averaged for an overall measure of model performance."
   ]
  },
  {
   "cell_type": "markdown",
   "metadata": {},
   "source": [
    "## Machine Learning: SVR\n",
    "### Alex Thompson"
   ]
  },
  {
   "cell_type": "code",
   "execution_count": 26,
   "metadata": {},
   "outputs": [],
   "source": [
    "import sys\n",
    "\n",
    "project_dir = '/Users/alex/ml_class/project/'\n",
    "\n",
    "sys.path.append(project_dir)"
   ]
  },
  {
   "cell_type": "code",
   "execution_count": 27,
   "metadata": {},
   "outputs": [
    {
     "name": "stdout",
     "output_type": "stream",
     "text": [
      "getting data\n",
      "filtering to good ones\n",
      "getting close prices\n",
      "filling gaps\n",
      "filtering to USDT\n",
      "calculating log prices\n",
      "calculating returns\n",
      "-------------------\n",
      "Now rolling analysis\n",
      "Make the dfs\n",
      "Running all the regressions\n",
      "('LTCUSDT', 'BNBUSDT')\n",
      "('TRXUSDT', 'BNBUSDT')\n",
      "('TRXUSDT', 'LTCUSDT')\n",
      "('ETHUSDT', 'BNBUSDT')\n",
      "('ETHUSDT', 'LTCUSDT')\n",
      "('ETHUSDT', 'TRXUSDT')\n",
      "('BTCUSDT', 'BNBUSDT')\n",
      "('BTCUSDT', 'LTCUSDT')\n",
      "('BTCUSDT', 'TRXUSDT')\n",
      "('BTCUSDT', 'ETHUSDT')\n",
      "('EOSUSDT', 'BNBUSDT')\n",
      "('EOSUSDT', 'LTCUSDT')\n",
      "('EOSUSDT', 'TRXUSDT')\n",
      "('EOSUSDT', 'ETHUSDT')\n",
      "('EOSUSDT', 'BTCUSDT')\n",
      "('ADAUSDT', 'BNBUSDT')\n",
      "('ADAUSDT', 'LTCUSDT')\n",
      "('ADAUSDT', 'TRXUSDT')\n",
      "('ADAUSDT', 'ETHUSDT')\n",
      "('ADAUSDT', 'BTCUSDT')\n",
      "('ADAUSDT', 'EOSUSDT')\n",
      "('XRPUSDT', 'BNBUSDT')\n",
      "('XRPUSDT', 'LTCUSDT')\n",
      "('XRPUSDT', 'TRXUSDT')\n",
      "('XRPUSDT', 'ETHUSDT')\n",
      "('XRPUSDT', 'BTCUSDT')\n",
      "('XRPUSDT', 'EOSUSDT')\n",
      "('XRPUSDT', 'ADAUSDT')\n",
      "Calculating dickey fullers\n"
     ]
    }
   ],
   "source": [
    "from core.rolling_analysis import RollingAnalyzer\n",
    "from core.utils import get_dfs, get_good_dfs, \\\n",
    "get_close_prices, fix_gaps_in_data, calc_returns, \\\n",
    "calc_log_prices, get_pairs\n",
    "from sklearn.preprocessing import FunctionTransformer\n",
    "\n",
    "import warnings\n",
    "import numpy\n",
    "import pandas as pd\n",
    "\n",
    "warnings.simplefilter(action='ignore', category=FutureWarning)\n",
    "m = 100\n",
    "start_date = '2019-01-01'\n",
    "end_date = '2019-03-01'\n",
    "\n",
    "print(\"getting data\")\n",
    "dfs = get_dfs(project_dir + \"data\")\n",
    "print(\"filtering to good ones\")\n",
    "good_dfs = get_good_dfs(dfs, 30000)\n",
    "print(\"getting close prices\")\n",
    "closes = get_close_prices(good_dfs)\n",
    "print(\"filling gaps\")\n",
    "closes = fix_gaps_in_data(closes)\n",
    "print(\"filtering to USDT\")\n",
    "pairs = get_pairs(good_dfs)\n",
    "closes_usdt = closes[pairs['USD']]\n",
    "\n",
    "print(\"calculating log prices\")\n",
    "log_df = calc_log_prices(closes_usdt)\n",
    "filtered_df = log_df[start_date:end_date]\n",
    "\n",
    "print(\"calculating returns\")\n",
    "returns = calc_returns(closes_usdt)\n",
    "print(\"-------------------\")\n",
    "print(\"Now rolling analysis\")\n",
    "rolling_analyzer = RollingAnalyzer(filtered_df, m)\n",
    "print(\"Make the dfs\")\n",
    "rolling_analyzer.make_dfs()\n",
    "rolling_analyzer.make_pairs()\n",
    "print(\"Running all the regressions\")\n",
    "rolling_analyzer.run_all_regressions()\n",
    "rolling_analyzer.calc_all_returns_stats()\n",
    "\n",
    "print(\"Calculating dickey fullers\")\n",
    "rolling_analyzer.run_regressions('ETHUSDT', 'BTCUSDT')\n",
    "rolling_analyzer.calc_dickey_fuller('ETHUSDT', 'BTCUSDT')"
   ]
  },
  {
   "cell_type": "code",
   "execution_count": 28,
   "metadata": {},
   "outputs": [],
   "source": [
    "import numpy as np\n",
    "import matplotlib.pyplot as plt\n",
    "\n",
    "def rename_columns(df, tag):\n",
    "    new_column_names = [col + '_' + tag for col in df.columns]\n",
    "    df.columns = new_column_names\n",
    "    return df\n",
    "\n",
    "mean_returns_df = rename_columns(rolling_analyzer.export_returns_stats_df(stat='mean_return'), 'mean')\n",
    "volatility_df = rename_columns(rolling_analyzer.export_returns_stats_df(stat='volatility'), 'vol')\n",
    "dickey_fuller_df = rename_columns(rolling_analyzer.export_dickey_fuller_df(), 'pval')\n",
    "betas_df = rename_columns(rolling_analyzer.export_betas_df(), 'betas')"
   ]
  },
  {
   "cell_type": "code",
   "execution_count": 29,
   "metadata": {},
   "outputs": [],
   "source": [
    "def zero_to_one(x):\n",
    "    return np.exp(x)/(1+np.exp(x))\n",
    "\n",
    "def to_infinity(x):\n",
    "    return np.log(x/(1-x))\n",
    "\n",
    "inf_dickey_fuller = to_infinity(dickey_fuller_df)"
   ]
  },
  {
   "cell_type": "code",
   "execution_count": 30,
   "metadata": {},
   "outputs": [],
   "source": [
    "def calculate_lags(features, target, m):\n",
    "    target_lags = {}\n",
    "    for i in range(0, m):\n",
    "        code = 'y' + str(i)\n",
    "        lag = target.shift(-i).iloc[:,0]\n",
    "        target_lags[code] = lag\n",
    "\n",
    "    y = pd.concat(target_lags, axis=1)\n",
    "\n",
    "    features_df = pd.concat(features, axis=1).dropna()\n",
    "    feature_lags = []\n",
    "    for i in range(0, m):\n",
    "        lag_df = features_df.shift(i)\n",
    "        lag_df.columns = [c + '_lag' + str(i) for c in list(features_df.columns)]\n",
    "        feature_lags.append(lag_df)\n",
    "\n",
    "    feature_lags = pd.concat(feature_lags, axis=1)\n",
    "    full_df = pd.concat([feature_lags, y], axis=1).dropna()\n",
    "    full_df = full_df.replace([np.inf, -np.inf], 0)\n",
    "    out = {\n",
    "        'full_df': full_df,\n",
    "        'features': feature_lags,\n",
    "        'target': y\n",
    "    }\n",
    "    return out\n",
    "\n",
    "lagged_data = calculate_lags([mean_returns_df, volatility_df, inf_dickey_fuller], inf_dickey_fuller, 100)"
   ]
  },
  {
   "cell_type": "code",
   "execution_count": 31,
   "metadata": {},
   "outputs": [],
   "source": [
    "def make_train_test(df, ratio = 0.2, target=['y']):\n",
    "    split_point = int((1 - ratio) * df.shape[0])\n",
    "    y = df[target]\n",
    "    x = df.drop(target, axis=1)\n",
    "    y_train = y[0:split_point]\n",
    "    x_train = x[0:split_point]\n",
    "    y_test = y[(split_point + 1):]\n",
    "    x_test = x[(split_point + 1):]\n",
    "    out = {'train': {'x': x_train, 'y': y_train},\n",
    "           'test': {'x': x_test, 'y': y_test}\n",
    "          }\n",
    "    return out\n",
    "    \n",
    "full_set = make_train_test(lagged_data['full_df'], target=list(lagged_data['target'].keys()))"
   ]
  },
  {
   "cell_type": "markdown",
   "metadata": {},
   "source": [
    "### Dimensionality Reduction\n",
    "\n",
    "\n",
    "The dataset has an incredibly large number of features as well as 100 output target variables. I elect to use PCA to reduce *both* of these, the input $X$ matrix as well as the output $Y$ matrix."
   ]
  },
  {
   "cell_type": "code",
   "execution_count": 260,
   "metadata": {},
   "outputs": [],
   "source": [
    "from sklearn.decomposition import PCA\n",
    "import pandas as pd\n",
    "from sklearn.pipeline import Pipeline\n",
    "from sklearn.preprocessing import StandardScaler\n",
    "from sklearn.decomposition import PCA\n",
    "\n",
    "def rebuild_df(pca_df, pipeline):\n",
    "    rebuilt_df = pd.DataFrame(pipeline.inverse_transform(pca_df))\n",
    "    rebuilt_df.index = pca_df.index\n",
    "    rebuilt_df.columns = ['y' + str(i) for i in range(rebuilt_df.shape[1])]\n",
    "    return rebuilt_df\n",
    "\n",
    "def do_pca_reduce(dataset):\n",
    "    x_pipeline = Pipeline([\n",
    "      ('scale', StandardScaler()),\n",
    "      ('pca', PCA(n_components=0.9))\n",
    "    ])\n",
    "\n",
    "    y_pipeline = Pipeline([\n",
    "      ('scale', StandardScaler()),\n",
    "      ('pca', PCA(n_components=0.9))\n",
    "    ])\n",
    "\n",
    "    x_reduced = pd.DataFrame(x_pipeline.fit_transform(dataset['x']), index=dataset['x'].index)\n",
    "    y_reduced = pd.DataFrame(y_pipeline.fit_transform(dataset['y']), index=dataset['y'].index)\n",
    "\n",
    "    out = {\n",
    "        'pipeline': {'x': x_pipeline, 'y': y_pipeline},\n",
    "        'original_data': dataset,\n",
    "        'reduced_data': {'x': x_reduced, 'y': y_reduced}\n",
    "    }\n",
    "    return out"
   ]
  },
  {
   "cell_type": "code",
   "execution_count": 261,
   "metadata": {},
   "outputs": [
    {
     "name": "stdout",
     "output_type": "stream",
     "text": [
      "(4369, 1700) (4369, 100)\n",
      "(4369, 20) (4369, 15)\n"
     ]
    }
   ],
   "source": [
    "pca = do_pca_reduce(full_set['train'])\n",
    "print(pca['original_data']['x'].shape, pca['original_data']['y'].shape)\n",
    "print(pca['reduced_data']['x'].shape, pca['reduced_data']['y'].shape)"
   ]
  },
  {
   "cell_type": "markdown",
   "metadata": {},
   "source": [
    "We see that the $x$ values have been reduced from 1,700 dimensions to 20 and that the $y$ variables have been reduced from 100 to 15. This means that instead of forecasting 100 future values we merely forecast 15 different values. This is computationally easier and the PCA transformation has a smoothing effect on the target variable. Here is a plot that demonstrates how the smoothing translates to the original p-value"
   ]
  },
  {
   "cell_type": "code",
   "execution_count": 284,
   "metadata": {},
   "outputs": [
    {
     "data": {
      "text/plain": [
       "[<matplotlib.lines.Line2D at 0x160f5f160>]"
      ]
     },
     "execution_count": 284,
     "metadata": {},
     "output_type": "execute_result"
    },
    {
     "data": {
      "image/png": "[encoded data removed]",
      "text/plain": [
       "<Figure size 432x288 with 1 Axes>"
      ]
     },
     "metadata": {
      "needs_background": "light"
     },
     "output_type": "display_data"
    }
   ],
   "source": [
    "rebuilt_y = rebuild_df(pca['reduced_data']['y'], pca['pipeline']['y'])\n",
    "plt.plot(zero_to_one(rebuilt_y.iloc[200:400,0]), color=\"blue\")\n",
    "plt.plot(zero_to_one(pca['original_data']['y'].iloc[200:400,0]), color=\"red\")"
   ]
  },
  {
   "cell_type": "markdown",
   "metadata": {},
   "source": [
    "## Support Vector Regression\n",
    "\n",
    "My model uses support vector machines to forecast the next hundred observations. The `MultiOutputRegressor` class is used to implement the multivariate output. I do a randomized search for hyperparameter tuning."
   ]
  },
  {
   "cell_type": "code",
   "execution_count": 239,
   "metadata": {},
   "outputs": [],
   "source": [
    "from sklearn.svm import SVR\n",
    "from sklearn.preprocessing import StandardScaler\n",
    "from sklearn.pipeline import Pipeline\n",
    "from sklearn.multioutput import MultiOutputRegressor\n",
    "\n",
    "scaler = StandardScaler()\n",
    "\n",
    "x = pca['data']['x']\n",
    "y = pca['data']['y']\n",
    "\n",
    "x_scaled = pd.DataFrame(scaler.fit_transform(x))\n",
    "x_scaled.index = x.index\n",
    "\n",
    "multioutput_model = MultiOutputRegressor(estimator=SVR())"
   ]
  },
  {
   "cell_type": "code",
   "execution_count": 240,
   "metadata": {},
   "outputs": [],
   "source": [
    "from sklearn.model_selection import RandomizedSearchCV\n",
    "from sklearn.model_selection import TimeSeriesSplit\n",
    "\n",
    "tseries_split = TimeSeriesSplit(n_splits=5)\n",
    "spl = tseries_split.split(x_scaled)"
   ]
  },
  {
   "cell_type": "code",
   "execution_count": 241,
   "metadata": {},
   "outputs": [],
   "source": [
    "params = {\n",
    "    \"estimator__C\": [0.1, 0.25, 0.5, 1, 2, 5, 10],\n",
    "    \"estimator__kernel\": ['sigmoid', 'poly', 'linear']\n",
    "}\n",
    "\n",
    "randomized_search = RandomizedSearchCV(\n",
    "    multioutput_model,\n",
    "    param_distributions=params,\n",
    "    cv=spl\n",
    ")"
   ]
  },
  {
   "cell_type": "code",
   "execution_count": 242,
   "metadata": {},
   "outputs": [
    {
     "data": {
      "text/plain": [
       "RandomizedSearchCV(cv=<generator object TimeSeriesSplit.split at 0x1554db4f8>,\n",
       "                   error_score='raise-deprecating',\n",
       "                   estimator=MultiOutputRegressor(estimator=SVR(C=1.0,\n",
       "                                                                cache_size=200,\n",
       "                                                                coef0=0.0,\n",
       "                                                                degree=3,\n",
       "                                                                epsilon=0.1,\n",
       "                                                                gamma='auto_deprecated',\n",
       "                                                                kernel='rbf',\n",
       "                                                                max_iter=-1,\n",
       "                                                                shrinking=True,\n",
       "                                                                tol=0.001,\n",
       "                                                                verbose=False),\n",
       "                                                  n_jobs=None),\n",
       "                   iid='warn', n_iter=10, n_jobs=None,\n",
       "                   param_distributions={'estimator__C': [0.1, 0.25, 0.5, 1, 2,\n",
       "                                                         5, 10],\n",
       "                                        'estimator__kernel': ['sigmoid', 'poly',\n",
       "                                                              'linear']},\n",
       "                   pre_dispatch='2*n_jobs', random_state=None, refit=True,\n",
       "                   return_train_score=False, scoring=None, verbose=0)"
      ]
     },
     "execution_count": 242,
     "metadata": {},
     "output_type": "execute_result"
    }
   ],
   "source": [
    "randomized_search.fit(x_scaled, y)"
   ]
  },
  {
   "cell_type": "code",
   "execution_count": 244,
   "metadata": {},
   "outputs": [
    {
     "data": {
      "text/plain": [
       "{'estimator__kernel': 'poly', 'estimator__C': 0.5}"
      ]
     },
     "execution_count": 244,
     "metadata": {},
     "output_type": "execute_result"
    }
   ],
   "source": [
    "randomized_search.best_params_"
   ]
  },
  {
   "cell_type": "code",
   "execution_count": 245,
   "metadata": {},
   "outputs": [],
   "source": [
    "model = randomized_search.best_estimator_"
   ]
  },
  {
   "cell_type": "code",
   "execution_count": 246,
   "metadata": {},
   "outputs": [],
   "source": [
    "predicted = pd.DataFrame(\n",
    "    model.predict(x_scaled),\n",
    "    index=full_set['train']['x'].index\n",
    ")"
   ]
  },
  {
   "cell_type": "code",
   "execution_count": 282,
   "metadata": {},
   "outputs": [],
   "source": [
    "rebuild_pred = rebuild_df(predicted, pca['pipeline']['y'])\n",
    "rebuild_y = rebuild_df(pca['reduced_data']['y'], pca['pipeline']['y'])"
   ]
  },
  {
   "cell_type": "markdown",
   "metadata": {},
   "source": [
    "Here is the plot of the original data, the smoothed PCA transform data, and the fitted prediction."
   ]
  },
  {
   "cell_type": "code",
   "execution_count": 311,
   "metadata": {},
   "outputs": [
    {
     "data": {
      "text/plain": [
       "[<matplotlib.lines.Line2D at 0x1824c38d0>]"
      ]
     },
     "execution_count": 311,
     "metadata": {},
     "output_type": "execute_result"
    },
    {
     "data": {
      "image/png": "[encoded data removed]",
      "text/plain": [
       "<Figure size 432x288 with 1 Axes>"
      ]
     },
     "metadata": {
      "needs_background": "light"
     },
     "output_type": "display_data"
    }
   ],
   "source": [
    "plt.plot(zero_to_one(rebuild_y['y0']).iloc[200:400], color=\"red\")\n",
    "plt.plot(zero_to_one(rebuild_pred['y12']).iloc[200:400], color=\"blue\")\n",
    "plt.plot(zero_to_one(pca['original_data']['y'].iloc[200:400,0]), color=\"green\")"
   ]
  },
  {
   "cell_type": "code",
   "execution_count": 317,
   "metadata": {},
   "outputs": [
    {
     "data": {
      "text/plain": [
       "0.1591080908336321"
      ]
     },
     "execution_count": 317,
     "metadata": {},
     "output_type": "execute_result"
    }
   ],
   "source": [
    "from sklearn.metrics import mean_squared_error\n",
    "\n",
    "mse = mean_squared_error(\n",
    "    zero_to_one(pca['original_data']['y']),\n",
    "    zero_to_one(rebuild_pred)\n",
    ")\n",
    "\n",
    "np.sqrt(mse)"
   ]
  },
  {
   "cell_type": "markdown",
   "metadata": {},
   "source": [
    "## Machine Learning: Neural Networks\n",
    "### Ryan Johnson"
   ]
  },
  {
   "cell_type": "markdown",
   "metadata": {},
   "source": [
    "### Setup"
   ]
  },
  {
   "cell_type": "code",
   "execution_count": null,
   "metadata": {},
   "outputs": [],
   "source": [
    "import datetime\n",
    "import json\n",
    "import pandas as pd\n",
    "import os\n",
    "import numpy as np\n",
    "from sklearn.preprocessing import FunctionTransformer\n",
    "from sklearn.metrics import mean_squared_error\n",
    "from sklearn.pipeline import Pipeline\n",
    "import numpy\n",
    "from functools import reduce\n",
    "from sklearn.preprocessing import scale\n",
    "import matplotlib.pyplot as plt\n",
    "%matplotlib inline\n",
    "\n",
    "from sklearn.preprocessing import StandardScaler\n",
    "from sklearn.decomposition import PCA\n",
    "from sklearn.manifold import TSNE\n",
    "\n",
    "import statsmodels.tsa.stattools as ts\n",
    "\n",
    "import warnings\n",
    "warnings.simplefilter(action=\"ignore\", category=FutureWarning)"
   ]
  },
  {
   "cell_type": "code",
   "execution_count": null,
   "metadata": {},
   "outputs": [],
   "source": [
    "files = os.listdir(\"../data/\")\n",
    "symbols = [f[:-4] for f in files if f[-4:]==\".csv\"]\n",
    "print(symbols)\n",
    "dfs = {f[:-4]: pd.read_csv(\"../data/\" + f, index_col=\"time\") for f in files if f[-4:]==\".csv\"}\n",
    "\n",
    "n = 30000\n",
    "good_dfs = {}\n",
    "for k, v in dfs.items():\n",
    "    if v.shape[0] > n:\n",
    "        good_dfs[k] = v"
   ]
  },
  {
   "cell_type": "code",
   "execution_count": null,
   "metadata": {},
   "outputs": [],
   "source": [
    "for k, v in good_dfs.items():\n",
    "    good_dfs[k].index = pd.to_datetime(good_dfs[k].index, unit=\"ms\", utc=True)\n",
    "\n",
    "closes_ls = [good_dfs[k]['close'] for k, v in good_dfs.items()]\n",
    "closes_df = pd.concat(closes_ls, axis=1).dropna()\n",
    "closes_df.columns = list(good_dfs.keys())\n",
    "closes_df.shape"
   ]
  },
  {
   "cell_type": "code",
   "execution_count": null,
   "metadata": {},
   "outputs": [],
   "source": [
    "bad_times = list(pd.DataFrame(closes_df.index).time.diff().unique())\n",
    "[i.astype('timedelta64[m]') for i in bad_times] "
   ]
  },
  {
   "cell_type": "code",
   "execution_count": null,
   "metadata": {},
   "outputs": [],
   "source": [
    "closes_df = closes_df.resample('15T').max()\n",
    "closes_df.fillna(method=\"ffill\", inplace=True)\n",
    "closes_df.shape # The dimensions have changed!"
   ]
  },
  {
   "cell_type": "code",
   "execution_count": null,
   "metadata": {},
   "outputs": [],
   "source": [
    "dfs_keys = good_dfs.keys()\n",
    "usd_pairs = list(filter(lambda x:  x[-4:] == 'USDT', list(dfs_keys)))\n",
    "btc_pairs = list(filter(lambda x:  x[-3:] == 'BTC', list(dfs_keys)))\n",
    "eth_pairs = list(filter(lambda x:  x[-3:] == 'ETH', list(dfs_keys)))\n",
    "bnb_pairs = list(filter(lambda x:  x[-3:] == 'BNB', list(dfs_keys)))\n",
    "pairs = {'USD': usd_pairs, 'BTC': btc_pairs, 'ETH': eth_pairs, 'BNB': bnb_pairs}\n",
    "\n",
    "close_prices = closes_df[pairs['USD']]"
   ]
  },
  {
   "cell_type": "code",
   "execution_count": null,
   "metadata": {},
   "outputs": [],
   "source": [
    "log_prices = FunctionTransformer(func=numpy.log).fit_transform(close_prices)\n",
    "returns = pd.DataFrame(log_prices).diff()\n",
    "returns.columns = close_prices.columns\n",
    "returns = returns.drop(returns.index[0])\n",
    "returns.corr()"
   ]
  },
  {
   "cell_type": "markdown",
   "metadata": {},
   "source": [
    "### Cointegration"
   ]
  },
  {
   "cell_type": "code",
   "execution_count": null,
   "metadata": {},
   "outputs": [],
   "source": [
    "log_df = pd.DataFrame(log_prices)\n",
    "log_df.index = close_prices.index\n",
    "log_df.columns = usd_pairs\n",
    "\n",
    "n = log_df.shape[0]\n",
    "m = 100\n",
    "\n",
    "def get_cointegration(asset_1, asset_2):\n",
    "    cointegrations = []\n",
    "\n",
    "    for i in range(0, (n-m)):\n",
    "        roll_df = log_df.iloc[i:(i+m), :]\n",
    "        btc = roll_df[asset_1]\n",
    "        eth = roll_df[asset_2]\n",
    "        cointegrations.append(ts.coint(btc, eth)[1])\n",
    "    \n",
    "    return cointegrations"
   ]
  },
  {
   "cell_type": "code",
   "execution_count": null,
   "metadata": {},
   "outputs": [],
   "source": [
    "%%time\n",
    "\n",
    "if os.path.isfile(\"../cointegration.json\"):\n",
    "    with open(\"../cointegration.json\", \"r\") as f:\n",
    "        cointegration_mv = json.load(f)\n",
    "else:\n",
    "    cointegration_mv = {}\n",
    "    for i in range(0, len(usd_pairs)):\n",
    "        pair_i = usd_pairs[i]\n",
    "        print(pair_i)\n",
    "        for j in range(0, i):\n",
    "            pair_j = usd_pairs[j]\n",
    "            print(\"\\t+\",pair_j)\n",
    "            if pair_i != pair_j:\n",
    "                code = pair_i + '_' + pair_j\n",
    "                print(\"\\t\\t=\",code)\n",
    "                cointegration_mv[code] = get_cointegration(pair_i, pair_j)\n",
    "    \n",
    "    json = json.dumps(cointegration_mv)\n",
    "    f = open(\"../cointegration.json\",\"w\")\n",
    "    f.write(json)\n",
    "    f.close()\n",
    "    \n",
    "coint_df = pd.DataFrame.from_dict(cointegration_mv)\n",
    "coint_df.index = log_df.index[m:]"
   ]
  },
  {
   "cell_type": "markdown",
   "metadata": {},
   "source": [
    "### Create Test / Train Data\n",
    "\n",
    "When picking our target and feature variables, we recognize the high correlation between different cryptocurrencies."
   ]
  },
  {
   "cell_type": "code",
   "execution_count": null,
   "metadata": {},
   "outputs": [],
   "source": [
    "returns.corr()"
   ]
  },
  {
   "cell_type": "markdown",
   "metadata": {},
   "source": [
    "We believe that because the movements of different cryptocurrencies are so highly correlated, the cointegration levels of different pairs of cryptocurrencies should also be highly correlated, i.e. if one or more pairs of cryptocurrencies become cointegration, that might be a strong indicator that our target crypto pair is also becoming cointegrated."
   ]
  },
  {
   "cell_type": "markdown",
   "metadata": {},
   "source": [
    "Furthermore, we consider the autocorrelation of our target cryptocurrency pair. The idea is that pairs that are cointegrated today should be cointegrated tomorrow. Our ACF plot below tells us that cointegration seems to \"linger\" for at least 60 days, i.e. the p-values up to lag 60 have statistically significant correlation."
   ]
  },
  {
   "cell_type": "code",
   "execution_count": null,
   "metadata": {},
   "outputs": [],
   "source": [
    "from statsmodels.graphics.tsaplots import plot_acf\n",
    "\n",
    "plot_acf(coint_df[target_label])\n",
    "plt.xlim(0, 125)"
   ]
  },
  {
   "cell_type": "markdown",
   "metadata": {},
   "source": [
    "From this insight, we believe it is appropriate to use at least 100 observations of p-values to predict the next 100 observations of p-values. This way, we can be sure that our predictions (at least on the extremes) are not simply a case of spurious regression"
   ]
  },
  {
   "cell_type": "code",
   "execution_count": null,
   "metadata": {},
   "outputs": [],
   "source": [
    "subset = coint_df.iloc[:2000, :]\n",
    "target_label = 'BTCUSDT_ETHUSDT'\n",
    "\n",
    "# default lookback is 100 obversavtions\n",
    "# default lookforward is 100 obvservations\n",
    "def ts_split(ts, target_label, feature_steps=100, target_steps=100):\n",
    "    n_obs = len(ts) - feature_steps - target_steps + 1\n",
    "        \n",
    "    X = [ts[idx:idx + feature_steps].as_matrix() for idx in range(n_obs)]\n",
    "    y = [ts[target_label][idx + feature_steps:idx + feature_steps + target_steps] for idx in range(n_obs)]\n",
    "    \n",
    "    return np.array(X), np.array(y)\n",
    "\n",
    "X, y = ts_split(subset, target_label)\n",
    "test_train_split = int(0.8 * len(X))\n",
    "val_train_split = int(0.8 * test_train_split)\n",
    "\n",
    "X_test, y_test = X[test_train_split:], y[test_train_split:]\n",
    "X_train, y_train = X[:val_train_split], y[:val_train_split]\n",
    "X_valid, y_valid = X[val_train_split:test_train_split], y[val_train_split:test_train_split]"
   ]
  },
  {
   "cell_type": "markdown",
   "metadata": {},
   "source": [
    "### Neural Networks"
   ]
  },
  {
   "cell_type": "code",
   "execution_count": null,
   "metadata": {},
   "outputs": [],
   "source": [
    "import tensorflow as tf\n",
    "import keras\n",
    "\n",
    "def reset_session(seed=42):\n",
    "    tf.set_random_seed(seed)\n",
    "    np.random.seed(seed)\n",
    "    keras.backend.clear_session()"
   ]
  },
  {
   "cell_type": "markdown",
   "metadata": {},
   "source": [
    "### RMSE Benchmark\n",
    "\n",
    "Because we are using RMSE as a our scoring metric, we need a benchmark to compare our scores to. In this section, we create a dummy set of predictions where every guess is 0.5 for the p-value. This score will be our benchmrak moving forward."
   ]
  },
  {
   "cell_type": "code",
   "execution_count": null,
   "metadata": {},
   "outputs": [],
   "source": [
    "y_guess = (y_test+(0.5-y_test))\n",
    "y_guess.shape"
   ]
  },
  {
   "cell_type": "code",
   "execution_count": null,
   "metadata": {},
   "outputs": [],
   "source": [
    "benchmark = (mean_squared_error(y_test, y_guess))**0.5"
   ]
  },
  {
   "cell_type": "code",
   "execution_count": null,
   "metadata": {},
   "outputs": [],
   "source": [
    "def RNN(n_hidden_layers=2, n_cells=20, batch_normalization=False, dropout=0.0):\n",
    "    reset_session()\n",
    "    \n",
    "    print(\"% ============================================== %\")\n",
    "    print(\"Model Architecture:\")\n",
    "    for _ in range(n_hidden_layers):\n",
    "        if dropout != 0.0:\n",
    "            print(\"\\t->SimpleRNN(\"+str(n_cells)+\" cells, \"+str(dropout*100)+\"% dropout)\")\n",
    "        else: \n",
    "            print(\"\\t->SimpleRNN(\"+str(n_cells)+\")\")\n",
    "        if batch_normalization:\n",
    "            print(\"\\t->BatchNormalization()\\n\")\n",
    "    print(\"\\n\")\n",
    "    \n",
    "    x_row = X.shape[1]\n",
    "    x_col = X.shape[2]\n",
    "    n_ahead = y.shape[1]\n",
    "    \n",
    "    model = keras.models.Sequential()\n",
    "    for _ in range(n_hidden_layers):\n",
    "        model.add(keras.layers.SimpleRNN(n_cells, return_sequences=True, dropout=dropout, recurrent_dropout=dropout))\n",
    "        model.add(keras.layers.BatchNormalization())\n",
    "        \n",
    "    model.add(keras.layers.TimeDistributed(keras.layers.Dense(1)))\n",
    "    model.add(keras.layers.Lambda(lambda Y_pred: Y_pred[:, -n_ahead:]))\n",
    "    \n",
    "    def root_mean_squared_error(y_true, y_pred):\n",
    "        return keras.backend.sqrt(keras.backend.mean(keras.backend.square(y_pred - y_true))) \n",
    "    \n",
    "    model.compile(loss=root_mean_squared_error, optimizer=\"nadam\")\n",
    "    \n",
    "    checkpoint_cb = keras.callbacks.ModelCheckpoint(\"hl\"+str(n_hidden_layers)+\"_c\"+str(n_cells)+\".h5\", save_best_only=True)\n",
    "    early_stopping_cb = keras.callbacks.EarlyStopping(patience=10, min_delta=0.01, restore_best_weights=True)\n",
    "    \n",
    "    run = model.fit(X_train, y_train[..., np.newaxis], epochs=400, \n",
    "                    validation_data=(X_valid, y_valid[..., np.newaxis]), \n",
    "                    callbacks=[checkpoint_cb, early_stopping_cb])\n",
    "    \n",
    "    y_pred = model.predict(X_test)\n",
    "    \n",
    "    pd.DataFrame(run.history).plot()\n",
    "    plt.title(\"Learning Curve\")\n",
    "    plt.axhline(y=benchmark, color=\"r\", linestyle=\"-\", label=\"benchmark\")\n",
    "    plt.xlabel(\"Epoch\")\n",
    "    plt.ylabel(\"RMSE\")\n",
    "    plt.grid(True)\n",
    "    plt.show()\n",
    "    \n",
    "    rmse = (mean_squared_error(y_test, np.squeeze(y_pred), multioutput=\"raw_values\"))**0.5\n",
    "    plt.plot([i+1 for i in range(len(rmse))], rmse)\n",
    "    plt.title(\"Forecast Errors\")\n",
    "    plt.axhline(y=benchmark, color=\"r\", linestyle=\"-\", label=\"benchmark\")\n",
    "    plt.xlim(1, n_ahead)\n",
    "    plt.ylabel(\"Root Mean Squared Error\")\n",
    "    plt.xlabel(\"n-ahead Forecast\")\n",
    "    plt.show()\n",
    "    \n",
    "    print(\"Validation Set Score: \",model.evaluate(X_valid, y_valid[..., np.newaxis]))\n",
    "    print(\"Test Set Score: \",model.evaluate(X_test, y_test[..., np.newaxis]))\n",
    "    print(\"\\n\\n\")\n",
    "    \n",
    "    return model"
   ]
  },
  {
   "cell_type": "markdown",
   "metadata": {},
   "source": [
    "We begin with a very simple model having only a single hidden layer."
   ]
  },
  {
   "cell_type": "code",
   "execution_count": null,
   "metadata": {
    "scrolled": false
   },
   "outputs": [],
   "source": [
    "RNN(1, 20)"
   ]
  },
  {
   "cell_type": "markdown",
   "metadata": {},
   "source": [
    "As we can see, this model strongly overfits the data and values to beat the benchmark. "
   ]
  },
  {
   "cell_type": "code",
   "execution_count": null,
   "metadata": {},
   "outputs": [],
   "source": [
    "RNN(3, 20)"
   ]
  },
  {
   "cell_type": "markdown",
   "metadata": {},
   "source": [
    "To combat this, we increase the number of hidden layers, add batch normalization, and dropout (at 10%)."
   ]
  },
  {
   "cell_type": "code",
   "execution_count": null,
   "metadata": {
    "scrolled": false
   },
   "outputs": [],
   "source": [
    "model = RNN(3, 20, batch_normalization=True, dropout=0.1)"
   ]
  },
  {
   "cell_type": "markdown",
   "metadata": {},
   "source": [
    "## Machine Learning: Random Forest\n",
    "### Griffin Collins"
   ]
  },
  {
   "cell_type": "code",
   "execution_count": null,
   "metadata": {},
   "outputs": [],
   "source": [
    "from sklearn.ensemble import RandomForestRegressor\n",
    "\n",
    "rfr = RandomForestRegressor()\n",
    "trax1, trax2, trax3 = X_train.shape\n",
    "vax1, vax2, vax3 = X_valid.shape\n",
    "tax1, tax2, tax3 = X_test.shape\n",
    "d2_X_train = X_train.reshape(trax1, trax2*trax3)\n",
    "d2_X_valid = X_valid.reshape(vax1, vax2*vax3)\n",
    "d2_X_test = X_test.reshape(tax1, tax2*tax3)"
   ]
  },
  {
   "cell_type": "code",
   "execution_count": null,
   "metadata": {},
   "outputs": [],
   "source": [
    "from sklearn.metrics import mean_squared_error\n",
    "\n",
    "rfr.fit(d2_X_train, y_train)\n",
    "\n",
    "y_pred_train = rfr.predict(d2_X_train)\n",
    "np.sqrt(mean_squared_error(y_pred_train, y_train))"
   ]
  },
  {
   "cell_type": "markdown",
   "metadata": {},
   "source": [
    "As we can see, the RMSE decreased using the optimized model. Now I will calculate RMSE on the validation set and create some plots illustrating model performance."
   ]
  },
  {
   "cell_type": "code",
   "execution_count": null,
   "metadata": {},
   "outputs": [],
   "source": [
    "import matplotlib as mlp\n",
    "import matplotlib.pyplot as plt\n",
    "\n",
    "ranger = np.arange(1, len(X_train), 200)\n",
    "\n",
    "def plot_learning_curves(model, X_train, y_train, X_val, y_val):\n",
    "    train_errors, val_errors = [], []\n",
    "    for m in ranger:\n",
    "        model.fit(X_train[:m], y_train[:m])\n",
    "        y_train_predict = model.predict(X_train[:m])\n",
    "        y_val_predict = model.predict(X_val)\n",
    "        train_errors.append(mean_squared_error(y_train[:m], y_train_predict))\n",
    "        val_errors.append(mean_squared_error(y_val, y_val_predict))\n",
    "\n",
    "    plt.plot(np.sqrt(train_errors), \"r-+\", linewidth=2, label=\"train\")\n",
    "    plt.plot(np.sqrt(val_errors), \"b-\", linewidth=3, label=\"val\")\n",
    "    plt.legend(loc=\"upper right\", fontsize=14) \n",
    "    plt.xlim = (1, len(d2_X_train))\n",
    "    plt.xlabel(\"Training set size\", fontsize=14) \n",
    "    plt.ylabel(\"RMSE\", fontsize=14) \n",
    "    \n",
    "plot_learning_curves(rfr, d2_X_train, y_train, d2_X_valid, y_valid)"
   ]
  },
  {
   "cell_type": "markdown",
   "metadata": {},
   "source": [
    "As you can see, the model is overfitting the data fairly severely. I will attempt to remedy this."
   ]
  },
  {
   "cell_type": "code",
   "execution_count": null,
   "metadata": {},
   "outputs": [],
   "source": [
    "y_pred_val_org = rfr.predict(d2_X_valid)\n",
    "\n",
    "print(np.sqrt(mean_squared_error(y_pred_val_org, y_valid)))"
   ]
  },
  {
   "cell_type": "code",
   "execution_count": null,
   "metadata": {},
   "outputs": [],
   "source": [
    "y_pred_test_rfr = rfr.predict(d2_X_test)"
   ]
  },
  {
   "cell_type": "code",
   "execution_count": null,
   "metadata": {},
   "outputs": [],
   "source": [
    "mse_test_rfr = mean_squared_error(y_pred_test_rfr, y_test, multioutput = 'raw_values')\n",
    "rmse_test_rfr = [np.sqrt(x) for x in mse_test_rfr]\n",
    "plt.plot(rmse_test_rfr)\n",
    "plt.title('Forecast Errors')\n",
    "plt.xlim(0, 100)\n",
    "plt.ylabel(\"RMSE\")\n",
    "plt.xlabel(\"Periods Ahead Forecast\")\n",
    "plt.show()"
   ]
  },
  {
   "cell_type": "markdown",
   "metadata": {},
   "source": [
    "Let's try the multi-ouptut regressor class and see how well it fits."
   ]
  },
  {
   "cell_type": "code",
   "execution_count": null,
   "metadata": {},
   "outputs": [],
   "source": [
    "from sklearn.multioutput import MultiOutputRegressor\n",
    "\n",
    "mor = MultiOutputRegressor(rfr, n_jobs = 2)\n",
    "mor.fit(d2_X_train, y_train)"
   ]
  },
  {
   "cell_type": "code",
   "execution_count": null,
   "metadata": {},
   "outputs": [],
   "source": [
    "plot_learning_curves(mor, d2_X_train, y_train, d2_X_valid, y_valid)"
   ]
  },
  {
   "cell_type": "code",
   "execution_count": null,
   "metadata": {},
   "outputs": [],
   "source": [
    "y_train_pred_mor = mor.predict(d2_X_train)\n",
    "y_valid_pred_mor = mor.predict(d2_X_valid)\n",
    "print(\"The RMSE of the multi-output regressor model on the training set is: \", np.sqrt(mean_squared_error(y_train_pred_mor, y_train)), '\\n')\n",
    "\n",
    "print(\"The RMSE of the multi-output regressor model on the validation set is: \", np.sqrt(mean_squared_error(y_valid_pred_mor, y_valid)), '\\n')"
   ]
  },
  {
   "cell_type": "markdown",
   "metadata": {},
   "source": [
    "The overfitting looks better, but still not very good. The model also fits better. Let's try dimensionality reduction and see if that gives us a model that fits both sets better."
   ]
  },
  {
   "cell_type": "code",
   "execution_count": null,
   "metadata": {},
   "outputs": [],
   "source": [
    "from sklearn.decomposition import PCA\n",
    "\n",
    "pca = PCA(n_components = .95, whiten = True)\n",
    "d2_X_train_pca = pca.fit_transform(d2_X_train, y_train)\n",
    "d2_X_valid_pca = pca.transform(d2_X_valid)\n",
    "d2_X_test_pca = pca.transform(d2_X_test)"
   ]
  },
  {
   "cell_type": "code",
   "execution_count": null,
   "metadata": {},
   "outputs": [],
   "source": [
    "print(d2_X_train_pca)"
   ]
  },
  {
   "cell_type": "code",
   "execution_count": null,
   "metadata": {},
   "outputs": [],
   "source": [
    "mor_pca = MultiOutputRegressor(rfr, n_jobs = 2)\n",
    "mor_pca.fit(d2_X_train_pca, y_train)"
   ]
  },
  {
   "cell_type": "code",
   "execution_count": null,
   "metadata": {},
   "outputs": [],
   "source": [
    "plot_learning_curves(mor_pca, d2_X_train_pca, y_train, d2_X_valid_pca, y_valid)"
   ]
  },
  {
   "cell_type": "markdown",
   "metadata": {},
   "source": [
    "It appears the model is still overfitting, and is overfitting even worse than before. Let's check RMSE on the validation and training set just to be sure."
   ]
  },
  {
   "cell_type": "code",
   "execution_count": null,
   "metadata": {},
   "outputs": [],
   "source": [
    "y_pred_train_mor_pca = mor_pca.predict(d2_X_train_pca)\n",
    "mse_train_mor_pca = mean_squared_error(y_pred_train_mor_pca, y_train, multioutput = 'raw_values')\n",
    "rmse_train_more_pca = [np.sqrt(x) for x in y_pred_train_mor_pca]\n",
    "y_pred_valid_mor_pca = mor_pca.predict(d2_X_valid_pca)\n",
    "mse_train_mor_pca = mean_squared_error(y_pred_valid_mor_pca, y_valid, multioutput = 'raw_values')\n",
    "rmse_valid_more_pca = [np.sqrt(x) for x in y_pred_valid_mor_pca]\n",
    "plt.plot(rmse_train_more_pca, 'r', rmse_valid_more_pca, 'b')\n",
    "plt.show()"
   ]
  },
  {
   "cell_type": "markdown",
   "metadata": {},
   "source": [
    "Based on this plot it seems the RMSE's are close to one another. However, I would estimate that the final RMSE values will differ more significantly"
   ]
  },
  {
   "cell_type": "code",
   "execution_count": null,
   "metadata": {},
   "outputs": [],
   "source": [
    "print(\"Training set RMSE:\\n\")\n",
    "print(np.sqrt(mean_squared_error(y_pred_train_mor_pca, y_train)), \"\\n\")\n",
    "print(\"Validation set RMSE:\\n\")\n",
    "print(np.sqrt(mean_squared_error(y_pred_valid_mor_pca, y_valid)))"
   ]
  },
  {
   "cell_type": "markdown",
   "metadata": {},
   "source": [
    "While the model does seem to be overfitting less, it is still overfitting. In addition to this, the predicting power of the model has decreased in both training and validation sets. Let's try fine tuning our model parameters to fit noise less frequently."
   ]
  },
  {
   "cell_type": "code",
   "execution_count": null,
   "metadata": {},
   "outputs": [],
   "source": [
    "rfr_tuning = RandomForestRegressor(n_estimators = 50, criterion = 'mse', min_samples_split = 50, min_samples_leaf = 50)\n",
    "mod_tuned = MultiOutputRegressor(rfr_tuning, n_jobs = 2)\n",
    "mod_tuned.fit(d2_X_train, y_train)"
   ]
  },
  {
   "cell_type": "code",
   "execution_count": null,
   "metadata": {},
   "outputs": [],
   "source": [
    "plot_learning_curves(mod_tuned, d2_X_train, y_train, d2_X_valid, y_valid)"
   ]
  },
  {
   "cell_type": "code",
   "execution_count": null,
   "metadata": {},
   "outputs": [],
   "source": [
    "y_pred_test_mod_tuned = mod_tuned.predict(d2_X_test)\n",
    "mse_test_mod_tuned = mean_squared_error(y_pred_test_mod_tuned, y_test, multioutput = 'raw_values')\n",
    "rmse_test_mod_tuned = [np.sqrt(x) for x in mse_test_mod_tuned]\n",
    "plt.plot(rmse_test_mod_tuned)\n",
    "plt.title('Forecast Errors')\n",
    "plt.xlim(0, 100)\n",
    "plt.ylabel(\"RMSE\")\n",
    "plt.xlabel(\"Periods Ahead Forecast\")\n",
    "plt.show()"
   ]
  },
  {
   "cell_type": "code",
   "execution_count": null,
   "metadata": {},
   "outputs": [],
   "source": [
    "y_pred_train_mod_tuned = mod_tuned.predict(d2_X_train)\n",
    "y_pred_valid_mod_tuned = mod_tuned.predict(d2_X_valid)\n",
    "print(\"The RMSE of the tuned model on the training set is \", np.sqrt(mean_squared_error(y_pred_train_mod_tuned, y_train)), \"\\n\")\n",
    "print(\"The RMSE of the tuned model on the validation set is \", np.sqrt(mean_squared_error(y_pred_valid_mod_tuned, y_valid)), \"\\n\")"
   ]
  },
  {
   "cell_type": "markdown",
   "metadata": {},
   "source": [
    "The best model appears to be the untuned MultiOutput Regressor model. Let's see how it performs on the test set. It is also important to note that the tuned model fits significantly better than the untuned model, despite only a small drop in performance."
   ]
  },
  {
   "cell_type": "code",
   "execution_count": null,
   "metadata": {},
   "outputs": [],
   "source": [
    "y_pred_test_mor = mor.predict(d2_X_test)\n",
    "print(\"The RMSE of the MultiOutput Regressor model on the test set is: \", np.sqrt(mean_squared_error(y_pred_test_mor,y_test )))\n",
    "mse_test_mor = mean_squared_error(y_pred_test_mor, y_test, multioutput = 'raw_values')\n",
    "rmse_test_mor = [np.sqrt(x) for x in mse_test_mor]\n",
    "plt.plot(rmse_test_mor)\n",
    "plt.title('Forecast Errors')\n",
    "plt.xlim(0, 100)\n",
    "plt.ylabel(\"RMSE\")\n",
    "plt.xlabel(\"Periods Ahead Forecast\")\n",
    "plt.show()"
   ]
  },
  {
   "cell_type": "markdown",
   "metadata": {},
   "source": [
    "The tuned model actually performs better on the test set than the multioutput regressor model. Let's see if we can change some of the parameters for better performance."
   ]
  },
  {
   "cell_type": "code",
   "execution_count": null,
   "metadata": {},
   "outputs": [],
   "source": [
    "rfr_tun2 = RandomForestRegressor(n_estimators = 65,criterion = 'mse', min_samples_split = 25, min_samples_leaf = 25, max_depth = 100)\n",
    "mod_tuned2 = MultiOutputRegressor(rfr_tun2, n_jobs = 2)\n",
    "mod_tuned2.fit(d2_X_train, y_train)"
   ]
  },
  {
   "cell_type": "code",
   "execution_count": null,
   "metadata": {},
   "outputs": [],
   "source": [
    "plot_learning_curves(mod_tuned2, d2_X_train, y_train, d2_X_valid, y_valid)"
   ]
  },
  {
   "cell_type": "code",
   "execution_count": null,
   "metadata": {},
   "outputs": [],
   "source": [
    "y_pred_train_mod_tuned2 = mod_tuned2.predict(d2_X_train)\n",
    "y_pred_valid_mod_tuned2 = mod_tuned2.predict(d2_X_valid)\n",
    "print(\"The RMSE of the tuned model on the training set is \", np.sqrt(mean_squared_error(y_pred_train_mod_tuned2, y_train)), \"\\n\")\n",
    "print(\"The RMSE of the tuned model on the validation set is \", np.sqrt(mean_squared_error(y_pred_valid_mod_tuned2, y_valid)), \"\\n\")\n",
    "y_pred_test_mod_tuned2 = mod_tuned2.predict(d2_X_test)\n",
    "print(\"The RMSE of the tuned model on the test set is \", np.sqrt(mean_squared_error(y_pred_test_mod_tuned2, y_test)), \"\\n\")"
   ]
  },
  {
   "cell_type": "code",
   "execution_count": null,
   "metadata": {},
   "outputs": [],
   "source": [
    "So the original tuned model had a better RMSE on training and test sets, So that is the model I will use."
   ]
  },
  {
   "cell_type": "markdown",
   "metadata": {},
   "source": [
    "## Conclusion"
   ]
  },
  {
   "cell_type": "code",
   "execution_count": null,
   "metadata": {},
   "outputs": [],
   "source": []
  }
 ],
 "metadata": {
  "kernelspec": {
   "display_name": "Python 3",
   "language": "python",
   "name": "python3"
  },
  "language_info": {
   "codemirror_mode": {
    "name": "ipython",
    "version": 3
   },
   "file_extension": ".py",
   "mimetype": "text/x-python",
   "name": "python",
   "nbconvert_exporter": "python",
   "pygments_lexer": "ipython3",
   "version": "3.7.1"
  }
 },
 "nbformat": 4,
 "nbformat_minor": 2
}
