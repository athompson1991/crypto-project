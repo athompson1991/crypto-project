{
 "cells": [
  {
   "cell_type": "code",
   "execution_count": 8,
   "metadata": {},
   "outputs": [],
   "source": [
    "import sys\n",
    "\n",
    "project_dir = '/Users/alex/ml_class/project/'\n",
    "\n",
    "sys.path.append(project_dir)"
   ]
  },
  {
   "cell_type": "code",
   "execution_count": null,
   "metadata": {},
   "outputs": [
    {
     "name": "stdout",
     "output_type": "stream",
     "text": [
      "getting data\n",
      "filtering to good ones\n",
      "getting close prices\n",
      "filling gaps\n",
      "filtering to USDT\n",
      "calculating log prices\n",
      "calculating returns\n",
      "-------------------\n",
      "Now rolling analysis\n",
      "Make the dfs\n",
      "Running all the regressions\n",
      "('LTCUSDT', 'BNBUSDT')\n",
      "('TRXUSDT', 'BNBUSDT')\n",
      "('TRXUSDT', 'LTCUSDT')\n",
      "('ETHUSDT', 'BNBUSDT')\n",
      "('ETHUSDT', 'LTCUSDT')\n",
      "('ETHUSDT', 'TRXUSDT')\n",
      "('BTCUSDT', 'BNBUSDT')\n",
      "('BTCUSDT', 'LTCUSDT')\n",
      "('BTCUSDT', 'TRXUSDT')\n",
      "('BTCUSDT', 'ETHUSDT')\n",
      "('EOSUSDT', 'BNBUSDT')\n",
      "('EOSUSDT', 'LTCUSDT')\n",
      "('EOSUSDT', 'TRXUSDT')\n",
      "('EOSUSDT', 'ETHUSDT')\n",
      "('EOSUSDT', 'BTCUSDT')\n",
      "('ADAUSDT', 'BNBUSDT')\n",
      "('ADAUSDT', 'LTCUSDT')\n",
      "('ADAUSDT', 'TRXUSDT')\n",
      "('ADAUSDT', 'ETHUSDT')\n",
      "('ADAUSDT', 'BTCUSDT')\n",
      "('ADAUSDT', 'EOSUSDT')\n",
      "('XRPUSDT', 'BNBUSDT')\n",
      "('XRPUSDT', 'LTCUSDT')\n",
      "('XRPUSDT', 'TRXUSDT')\n",
      "('XRPUSDT', 'ETHUSDT')\n",
      "('XRPUSDT', 'BTCUSDT')\n",
      "('XRPUSDT', 'EOSUSDT')\n",
      "('XRPUSDT', 'ADAUSDT')\n",
      "Calculating dickey fullers\n"
     ]
    }
   ],
   "source": [
    "from core.rolling_analysis import RollingAnalyzer\n",
    "from core.utils import get_dfs, get_good_dfs, \\\n",
    "get_close_prices, fix_gaps_in_data, calc_returns, \\\n",
    "calc_log_prices, get_pairs\n",
    "from sklearn.preprocessing import FunctionTransformer\n",
    "\n",
    "import warnings\n",
    "import numpy\n",
    "import pandas as pd\n",
    "\n",
    "\n",
    "\n",
    "warnings.simplefilter(action='ignore', category=FutureWarning)\n",
    "m = 100\n",
    "start_date = '2019-01-01'\n",
    "end_date = '2019-03-01'\n",
    "\n",
    "print(\"getting data\")\n",
    "dfs = get_dfs(project_dir + \"data\")\n",
    "print(\"filtering to good ones\")\n",
    "good_dfs = get_good_dfs(dfs, 30000)\n",
    "print(\"getting close prices\")\n",
    "closes = get_close_prices(good_dfs)\n",
    "print(\"filling gaps\")\n",
    "closes = fix_gaps_in_data(closes)\n",
    "print(\"filtering to USDT\")\n",
    "pairs = get_pairs(good_dfs)\n",
    "closes_usdt = closes[pairs['USD']]\n",
    "\n",
    "print(\"calculating log prices\")\n",
    "log_df = calc_log_prices(closes_usdt)\n",
    "filtered_df = log_df[start_date:end_date]\n",
    "\n",
    "print(\"calculating returns\")\n",
    "returns = calc_returns(closes_usdt)\n",
    "print(\"-------------------\")\n",
    "print(\"Now rolling analysis\")\n",
    "rolling_analyzer = RollingAnalyzer(filtered_df, m)\n",
    "print(\"Make the dfs\")\n",
    "rolling_analyzer.make_dfs()\n",
    "rolling_analyzer.make_pairs()\n",
    "print(\"Running all the regressions\")\n",
    "rolling_analyzer.run_all_regressions()\n",
    "rolling_analyzer.calc_all_returns_stats()\n",
    "\n",
    "print(\"Calculating dickey fullers\")\n",
    "rolling_analyzer.run_regressions('ETHUSDT', 'BTCUSDT')\n",
    "rolling_analyzer.calc_dickey_fuller('ETHUSDT', 'BTCUSDT')"
   ]
  },
  {
   "cell_type": "code",
   "execution_count": 5,
   "metadata": {},
   "outputs": [
    {
     "data": {
      "text/plain": [
       "['/Users/alex/ml_class/project/notebooks',\n",
       " '/anaconda3/lib/python37.zip',\n",
       " '/anaconda3/lib/python3.7',\n",
       " '/anaconda3/lib/python3.7/lib-dynload',\n",
       " '',\n",
       " '/Users/alex/ml_class/project_venv/lib/python3.7/site-packages',\n",
       " '/Users/alex/ml_class/project_venv/lib/python3.7/site-packages/IPython/extensions',\n",
       " '/Users/alex/.ipython']"
      ]
     },
     "execution_count": 5,
     "metadata": {},
     "output_type": "execute_result"
    }
   ],
   "source": []
  },
  {
   "cell_type": "code",
   "execution_count": 1320,
   "metadata": {},
   "outputs": [],
   "source": [
    "import numpy as np\n",
    "import matplotlib.pyplot as plt\n",
    "\n",
    "def rename_columns(df, tag):\n",
    "    new_column_names = [col + '_' + tag for col in df.columns]\n",
    "    df.columns = new_column_names\n",
    "    return df\n",
    "\n",
    "mean_returns_df = rename_columns(rolling_analyzer.export_returns_stats_df(stat='mean_return'), 'mean')\n",
    "volatility_df = rename_columns(rolling_analyzer.export_returns_stats_df(stat='volatility'), 'vol')\n",
    "dickey_fuller_df = rename_columns(rolling_analyzer.export_dickey_fuller_df(), 'pval')\n",
    "betas_df = rename_columns(rolling_analyzer.export_betas_df(), 'betas')"
   ]
  },
  {
   "cell_type": "code",
   "execution_count": null,
   "metadata": {},
   "outputs": [],
   "source": []
  },
  {
   "cell_type": "code",
   "execution_count": 1321,
   "metadata": {},
   "outputs": [
    {
     "data": {
      "text/plain": [
       "[<matplotlib.lines.Line2D at 0x16c543dd8>]"
      ]
     },
     "execution_count": 1321,
     "metadata": {},
     "output_type": "execute_result"
    },
    {
     "data": {
      "image/png": "[encoded data removed]",
      "text/plain": [
       "<Figure size 432x288 with 1 Axes>"
      ]
     },
     "metadata": {
      "needs_background": "light"
     },
     "output_type": "display_data"
    }
   ],
   "source": [
    "def zero_to_one(x):\n",
    "    return np.exp(x)/(1+np.exp(x))\n",
    "\n",
    "def to_infinity(x):\n",
    "    np.log(x/(1-x))\n",
    "\n",
    "\n",
    "inf_dickey_fuller = np.log(series/(1-series))\n",
    "plt.plot(inf_dickey_fuller['2019-01-01':'2019-01-31'])"
   ]
  },
  {
   "cell_type": "code",
   "execution_count": 1322,
   "metadata": {},
   "outputs": [],
   "source": [
    "target_lags = {}\n",
    "for i in range(0, m):\n",
    "    code = 'y' + str(i)\n",
    "    lag = inf_dickey_fuller.shift(-i)\n",
    "    target_lags[code] = lag\n",
    "\n",
    "y = pd.DataFrame(target_lags)\n",
    "\n",
    "features_df = pd.concat([inf_dickey_fuller, mean_returns_df, volatility_df, betas_df], axis=1).dropna()\n",
    "feature_lags = []\n",
    "for i in range(0, m):\n",
    "    lag_df = features_df.shift(i)\n",
    "    lag_df.columns = [c + '_lag' + str(i) for c in list(features_df.columns)]\n",
    "    feature_lags.append(lag_df)\n",
    "\n",
    "all_lags = pd.concat(feature_lags, axis=1)\n",
    "full_df = pd.concat([all_lags, y], axis=1).dropna()\n",
    "full_df = full_df.replace([np.inf, -np.inf], 0)"
   ]
  },
  {
   "cell_type": "code",
   "execution_count": 1323,
   "metadata": {},
   "outputs": [],
   "source": [
    "def make_train_test(df, ratio = 0.2, target=['y']):\n",
    "    split_point = int((1 - ratio) * df.shape[0])\n",
    "    y = df[target]\n",
    "    x = df.drop(target, axis=1)\n",
    "    y_train = y[0:split_point]\n",
    "    x_train = x[0:split_point]\n",
    "    y_test = y[(split_point + 1):]\n",
    "    x_test = x[(split_point + 1):]\n",
    "    out = {'train': {'x': x_train, 'y': y_train},\n",
    "           'test': {'x': x_test, 'y': y_test}\n",
    "          }\n",
    "    return out\n",
    "    \n",
    "full_set = make_train_test(full_df, target=list(y.keys()))"
   ]
  },
  {
   "cell_type": "code",
   "execution_count": null,
   "metadata": {},
   "outputs": [],
   "source": []
  },
  {
   "cell_type": "code",
   "execution_count": 946,
   "metadata": {},
   "outputs": [
    {
     "name": "stderr",
     "output_type": "stream",
     "text": [
      "/Users/alex/ml_class/project_venv/lib/python3.7/site-packages/statsmodels/base/model.py:488: HessianInversionWarning: Inverting hessian failed, no bse or cov_params available\n",
      "  'available', HessianInversionWarning)\n",
      "/Users/alex/ml_class/project_venv/lib/python3.7/site-packages/statsmodels/base/model.py:508: ConvergenceWarning: Maximum Likelihood optimization failed to converge. Check mle_retvals\n",
      "  \"Check mle_retvals\", ConvergenceWarning)\n"
     ]
    },
    {
     "data": {
      "text/plain": [
       "[<matplotlib.lines.Line2D at 0x183599eb8>]"
      ]
     },
     "execution_count": 946,
     "metadata": {},
     "output_type": "execute_result"
    },
    {
     "data": {
      "image/png": "[encoded data removed]",
      "text/plain": [
       "<Figure size 432x288 with 1 Axes>"
      ]
     },
     "metadata": {
      "needs_background": "light"
     },
     "output_type": "display_data"
    }
   ],
   "source": [
    "from statsmodels.tsa.arima_model import ARIMA\n",
    "\n",
    "p_vals = full_set['train']['x']['BTCUSDT_ETHUSDT']\n",
    "start = 200\n",
    "in_sample_size = 1000\n",
    "out_of_sample_size = 100\n",
    "train = p_vals[start:(start+in_sample_size)]\n",
    "test = p_vals[(start+in_sample_size+1):(start+in_sample_size+1+out_of_sample_size)]\n",
    "\n",
    "model = ARIMA(\n",
    "    train,\n",
    "    order=(15, 1, 14),\n",
    "    freq='15T'\n",
    ")\n",
    "model_fit = model.fit()\n",
    "predictions = model.predict(\n",
    "    params=model_fit.params,\n",
    "    start=test.index[0],\n",
    "    end=test.index[len(test)-1]\n",
    ")\n",
    "plt.plot(np.array(test))\n",
    "plt.plot(test[0]+np.cumsum(predictions))"
   ]
  },
  {
   "cell_type": "markdown",
   "metadata": {},
   "source": [
    "# Dimensionality Reduction"
   ]
  },
  {
   "cell_type": "code",
   "execution_count": 1351,
   "metadata": {},
   "outputs": [],
   "source": [
    "from sklearn.decomposition import PCA\n",
    "from sklearn.manifold import TSNE\n",
    "\n",
    "tsne_pipeline = Pipeline([\n",
    "    ('scale', StandardScaler()),\n",
    "    ('pca', PCA(n_components=0.9)),\n",
    "    ('tsne', TSNE(n_components=2, random_state=42))\n",
    "])\n",
    "\n",
    "pca_pipeline = Pipeline([\n",
    "    ('scale', StandardScaler()),\n",
    "    ('pca', PCA(n_components=0.9))\n",
    "])\n",
    "\n",
    "x_pca_reduced = pd.DataFrame(pca_pipeline.fit_transform(full_set['train']['x']))\n",
    "y_pca_reduced = pd.DataFrame(pca_pipeline.fit_transform(full_set['train']['y']))"
   ]
  },
  {
   "cell_type": "code",
   "execution_count": 1352,
   "metadata": {},
   "outputs": [],
   "source": [
    "x_pca_reduced.index = full_set['train']['x'].index\n",
    "y_pca_reduced.index = full_set['train']['y'].index"
   ]
  },
  {
   "cell_type": "code",
   "execution_count": null,
   "metadata": {},
   "outputs": [],
   "source": [
    "x_pca_reduced.shape, y_pca_reduced.shape"
   ]
  },
  {
   "cell_type": "code",
   "execution_count": 1354,
   "metadata": {},
   "outputs": [],
   "source": [
    "def rebuild_df(pca_df):\n",
    "    rebuilt_df = pd.DataFrame(pca_pipeline.inverse_transform(pca_df))\n",
    "    rebuilt_df.index = pca_df.index\n",
    "    rebuilt_df.columns = ['y' + str(i) for i in range(rebuilt_df.shape[1])]\n",
    "    return rebuilt_df\n",
    "\n",
    "rebuilt_df = rebuild_df(y_pca_reduced)"
   ]
  },
  {
   "cell_type": "code",
   "execution_count": 1358,
   "metadata": {},
   "outputs": [
    {
     "data": {
      "text/plain": [
       "MultiOutputRegressor(estimator=SVR(C=10, cache_size=200, coef0=0.0, degree=3,\n",
       "                                   epsilon=0.1, gamma='auto_deprecated',\n",
       "                                   kernel='poly', max_iter=-1, shrinking=True,\n",
       "                                   tol=0.001, verbose=False),\n",
       "                     n_jobs=None)"
      ]
     },
     "execution_count": 1358,
     "metadata": {},
     "output_type": "execute_result"
    }
   ],
   "source": [
    "from sklearn.svm import SVR\n",
    "from sklearn.preprocessing import StandardScaler\n",
    "from sklearn.pipeline import Pipeline\n",
    "from sklearn.multioutput import MultiOutputRegressor\n",
    "\n",
    "scaler = StandardScaler()\n",
    "\n",
    "x_scaled = pd.DataFrame(scaler.fit_transform(x_pca_reduced))\n",
    "x_scaled.index = x_pca_reduced.index\n",
    "# y_scaled = scaler.fit_transform(y_pca_reduced)\n",
    "\n",
    "model = SVR(kernel=\"poly\", C=10)\n",
    "multioutput_model = MultiOutputRegressor(model)\n",
    "multioutput_model.fit(x_scaled, y_pca_reduced)"
   ]
  },
  {
   "cell_type": "code",
   "execution_count": null,
   "metadata": {},
   "outputs": [],
   "source": []
  },
  {
   "cell_type": "code",
   "execution_count": 1360,
   "metadata": {},
   "outputs": [],
   "source": [
    "predicted = pd.DataFrame(\n",
    "    multioutput_model.predict(x_scaled),\n",
    "    index=full_set['train']['x'].index\n",
    ")"
   ]
  },
  {
   "cell_type": "code",
   "execution_count": 1361,
   "metadata": {},
   "outputs": [
    {
     "data": {
      "text/plain": [
       "0.10363265109789908"
      ]
     },
     "execution_count": 1361,
     "metadata": {},
     "output_type": "execute_result"
    }
   ],
   "source": [
    "def rolled_mse(true_values, predicted, transform = True):\n",
    "    mse_list = []\n",
    "    for i in range(true_values.shape[0]):\n",
    "        temp_true = true_values.iloc[i, :]\n",
    "        temp_pred = predicted.iloc[i, :]\n",
    "        if transform:\n",
    "            temp_true = zero_to_one(temp_true)\n",
    "            temp_pred = zero_to_one(temp_pred)\n",
    "        temp_mse = mean_squared_error(temp_true, temp_pred)\n",
    "        mse_list.append(temp_mse)\n",
    "    return mse_list\n",
    "\n",
    "def overall_rolled_mse(true_values, predicted, transform=True):\n",
    "    mse_list = rolled_mse(true_values, predicted, transform)\n",
    "    return np.mean(mse_list)\n",
    "\n",
    "full_predicted = rebuild_df(predicted)\n",
    "\n",
    "mse_list = rolled_mse(\n",
    "    full_set['train']['y'],\n",
    "    full_predicted\n",
    ")\n",
    "\n",
    "np.sqrt(overall_rolled_mse(full_set['train']['y'], full_predicted))"
   ]
  },
  {
   "cell_type": "code",
   "execution_count": 1332,
   "metadata": {},
   "outputs": [
    {
     "data": {
      "text/plain": [
       "array([[-6.41756862e-01,  1.45560007e+00, -5.88544104e-01, ...,\n",
       "         1.06927698e+00, -3.45237175e-01,  9.17264030e-01],\n",
       "       [-6.40735964e-01,  1.45886096e+00, -5.89652396e-01, ...,\n",
       "         1.06695070e+00, -3.01386840e-01,  8.89431631e-01],\n",
       "       [-6.40284750e-01,  1.46269022e+00, -5.89893812e-01, ...,\n",
       "         1.06211342e+00, -2.60565646e-01,  8.59934042e-01],\n",
       "       ...,\n",
       "       [-5.92733938e-01, -5.50063103e-02, -2.76518452e-01, ...,\n",
       "         2.63591990e+00, -8.13426855e-01,  3.04114287e-01],\n",
       "       [-5.88253777e-01, -2.86843076e-02, -2.67435308e-01, ...,\n",
       "         2.62173827e+00, -8.87869703e-01,  1.94131634e-01],\n",
       "       [-5.84184671e-01, -2.04008211e-03, -2.58131298e-01, ...,\n",
       "         2.58223401e+00, -9.61022845e-01,  8.37978866e-02]])"
      ]
     },
     "execution_count": 1332,
     "metadata": {},
     "output_type": "execute_result"
    }
   ],
   "source": []
  },
  {
   "cell_type": "code",
   "execution_count": 1362,
   "metadata": {},
   "outputs": [],
   "source": [
    "def time_series_cross_val_split(x, y, predict_n=100):\n",
    "    n = x.shape[0]\n",
    "    split = n - predict_n\n",
    "    in_sample_x = x.iloc[:(split - 1), :]\n",
    "    in_sample_y = y.iloc[:(split - 1)]\n",
    "    out_of_sample_x = x.iloc[split:, :]\n",
    "    out_of_sample_y = y.iloc[split:, :]\n",
    "    out = {\n",
    "        'in': {'x': in_sample_x, 'y': in_sample_y},\n",
    "        'out': {'x': out_of_sample_x, 'y': out_of_sample_y}\n",
    "    }\n",
    "    return out\n",
    "    \n",
    "split = time_series_cross_val_split(pd.DataFrame(x_scaled), y_pca_reduced)"
   ]
  },
  {
   "cell_type": "code",
   "execution_count": 1363,
   "metadata": {},
   "outputs": [
    {
     "data": {
      "text/plain": [
       "MultiOutputRegressor(estimator=SVR(C=1.0, cache_size=200, coef0=0.0, degree=3,\n",
       "                                   epsilon=0.1, gamma='auto_deprecated',\n",
       "                                   kernel='rbf', max_iter=-1, shrinking=True,\n",
       "                                   tol=0.001, verbose=False),\n",
       "                     n_jobs=None)"
      ]
     },
     "execution_count": 1363,
     "metadata": {},
     "output_type": "execute_result"
    }
   ],
   "source": [
    "multiouput_model.fit(split['in']['x'], split['in']['y'])"
   ]
  },
  {
   "cell_type": "code",
   "execution_count": 1391,
   "metadata": {},
   "outputs": [
    {
     "data": {
      "text/plain": [
       "0.053572911723370725"
      ]
     },
     "execution_count": 1391,
     "metadata": {},
     "output_type": "execute_result"
    }
   ],
   "source": [
    "predictions = pd.DataFrame(\n",
    "    multioutput_model.predict(split['out']['x']),\n",
    "    index=split['out']['x'].index\n",
    ")\n",
    "true_values = split['out']['y']\n",
    "true_values_df = rebuild_df(true_values)\n",
    "prediction_df = rebuild_df(predictions)\n",
    "\n",
    "np.sqrt(overall_rolled_mse(true_values_df, prediction_df))"
   ]
  },
  {
   "cell_type": "code",
   "execution_count": 1,
   "metadata": {},
   "outputs": [
    {
     "ename": "NameError",
     "evalue": "name 'plt' is not defined",
     "output_type": "error",
     "traceback": [
      "\u001b[0;31m---------------------------------------------------------------------------\u001b[0m",
      "\u001b[0;31mNameError\u001b[0m                                 Traceback (most recent call last)",
      "\u001b[0;32m<ipython-input-1-39643fb919e3>\u001b[0m in \u001b[0;36m<module>\u001b[0;34m\u001b[0m\n\u001b[0;32m----> 1\u001b[0;31m \u001b[0mplt\u001b[0m\u001b[0;34m.\u001b[0m\u001b[0mplot\u001b[0m\u001b[0;34m(\u001b[0m\u001b[0mtrue_values_df\u001b[0m\u001b[0;34m.\u001b[0m\u001b[0miloc\u001b[0m\u001b[0;34m[\u001b[0m\u001b[0;36m100\u001b[0m\u001b[0;34m-\u001b[0m\u001b[0;36m1\u001b[0m\u001b[0;34m,\u001b[0m \u001b[0;34m:\u001b[0m\u001b[0;34m]\u001b[0m\u001b[0;34m)\u001b[0m\u001b[0;34m\u001b[0m\u001b[0;34m\u001b[0m\u001b[0m\n\u001b[0m\u001b[1;32m      2\u001b[0m \u001b[0mplt\u001b[0m\u001b[0;34m.\u001b[0m\u001b[0mplot\u001b[0m\u001b[0;34m(\u001b[0m\u001b[0mprediction_df\u001b[0m\u001b[0;34m.\u001b[0m\u001b[0miloc\u001b[0m\u001b[0;34m[\u001b[0m\u001b[0;36m100\u001b[0m\u001b[0;34m-\u001b[0m\u001b[0;36m1\u001b[0m\u001b[0;34m,\u001b[0m \u001b[0;34m:\u001b[0m\u001b[0;34m]\u001b[0m\u001b[0;34m)\u001b[0m\u001b[0;34m\u001b[0m\u001b[0;34m\u001b[0m\u001b[0m\n",
      "\u001b[0;31mNameError\u001b[0m: name 'plt' is not defined"
     ]
    }
   ],
   "source": [
    "plt.plot(true_values_df.iloc[100-1, :])\n",
    "plt.plot(prediction_df.iloc[100-1, :])"
   ]
  },
  {
   "cell_type": "code",
   "execution_count": 1300,
   "metadata": {},
   "outputs": [
    {
     "data": {
      "text/plain": [
       "array([[-9.12055501e+00,  2.17266942e+00,  7.38241390e-01,\n",
       "         2.42502162e+00,  7.58473779e-02, -2.25976643e+00,\n",
       "         8.94985179e-01, -1.13274527e+00, -2.44627462e+00,\n",
       "         4.99689936e-02],\n",
       "       [-8.80428947e+00,  2.28779687e+00,  8.12175444e-01,\n",
       "         2.61216801e+00, -3.25220636e-01, -2.04968225e+00,\n",
       "         8.76157542e-01, -1.03918892e+00, -2.60606906e+00,\n",
       "        -7.06176063e-03],\n",
       "       [-8.45743369e+00,  2.37394127e+00,  8.68450592e-01,\n",
       "         2.76195938e+00, -7.01548958e-01, -1.82372050e+00,\n",
       "         8.50695230e-01, -9.32462488e-01, -2.74168232e+00,\n",
       "        -6.48297157e-02],\n",
       "       [-8.08126923e+00,  2.42699509e+00,  9.09096421e-01,\n",
       "         2.87184727e+00, -1.04265246e+00, -1.58461571e+00,\n",
       "         8.20486770e-01, -8.14069874e-01, -2.84604739e+00,\n",
       "        -1.23859246e-01],\n",
       "       [-7.67118253e+00,  2.44621954e+00,  9.34623872e-01,\n",
       "         2.94014638e+00, -1.34786512e+00, -1.33230529e+00,\n",
       "         7.84800284e-01, -6.85291327e-01, -2.91751809e+00,\n",
       "        -1.84883230e-01],\n",
       "       [-7.22660102e+00,  2.42938733e+00,  9.44154164e-01,\n",
       "         2.96493269e+00, -1.60549395e+00, -1.07982159e+00,\n",
       "         7.47986218e-01, -5.54984754e-01, -2.95336434e+00,\n",
       "        -2.44116423e-01],\n",
       "       [-6.74653397e+00,  2.37482889e+00,  9.38329105e-01,\n",
       "         2.94645382e+00, -1.80583847e+00, -8.36737950e-01,\n",
       "         7.11021013e-01, -4.27558081e-01, -2.95424975e+00,\n",
       "        -2.98852834e-01],\n",
       "       [-6.22084350e+00,  2.29579282e+00,  9.12389975e-01,\n",
       "         2.89347517e+00, -1.98331573e+00, -5.80761580e-01,\n",
       "         6.62732164e-01, -2.74670446e-01, -2.92078792e+00,\n",
       "        -3.71006034e-01],\n",
       "       [-5.67130529e+00,  2.18230468e+00,  8.67059191e-01,\n",
       "         2.79946628e+00, -2.08962438e+00, -3.55560980e-01,\n",
       "         6.21648401e-01, -1.34420975e-01, -2.85028327e+00,\n",
       "        -4.32266013e-01],\n",
       "       [-5.14066505e+00,  2.04987012e+00,  8.11639534e-01,\n",
       "         2.68166710e+00, -2.14531295e+00, -1.64534757e-01,\n",
       "         5.90051976e-01, -1.30664298e-02, -2.75882161e+00,\n",
       "        -4.86587619e-01],\n",
       "       [-4.61672301e+00,  1.90426105e+00,  7.46579500e-01,\n",
       "         2.54041759e+00, -2.16601272e+00,  8.75446342e-03,\n",
       "         5.65928895e-01,  9.68443780e-02, -2.64164809e+00,\n",
       "        -5.36654371e-01],\n",
       "       [-4.11305358e+00,  1.74465843e+00,  6.82052148e-01,\n",
       "         2.38364206e+00, -2.15073189e+00,  1.59707528e-01,\n",
       "         5.48001369e-01,  1.87171705e-01, -2.50281886e+00,\n",
       "        -5.83165606e-01],\n",
       "       [-3.62889347e+00,  1.57459131e+00,  6.13356340e-01,\n",
       "         2.21272037e+00, -2.10075337e+00,  2.85772416e-01,\n",
       "         5.39263711e-01,  2.55412133e-01, -2.34943253e+00,\n",
       "        -6.22737225e-01],\n",
       "       [-3.16598097e+00,  1.39661276e+00,  5.40214240e-01,\n",
       "         2.03119951e+00, -2.01839885e+00,  3.87297400e-01,\n",
       "         5.38747933e-01,  2.97722058e-01, -2.18765264e+00,\n",
       "        -6.55458919e-01],\n",
       "       [-2.72714894e+00,  1.21793881e+00,  4.61196622e-01,\n",
       "         1.84306764e+00, -1.91071993e+00,  4.66854421e-01,\n",
       "         5.46029275e-01,  3.20905361e-01, -2.02080244e+00,\n",
       "        -6.79390498e-01],\n",
       "       [-2.32506866e+00,  1.05324897e+00,  3.89557763e-01,\n",
       "         1.65379985e+00, -1.79585250e+00,  5.32338446e-01,\n",
       "         5.47379318e-01,  3.31809097e-01, -1.84431652e+00,\n",
       "        -7.02526456e-01],\n",
       "       [-1.94543773e+00,  8.85107033e-01,  3.16347246e-01,\n",
       "         1.46129748e+00, -1.65570342e+00,  5.72411813e-01,\n",
       "         5.54239269e-01,  3.11756373e-01, -1.67175903e+00,\n",
       "        -7.20718979e-01],\n",
       "       [-1.59675589e+00,  7.27053295e-01,  2.46783843e-01,\n",
       "         1.27218771e+00, -1.50699527e+00,  5.93950735e-01,\n",
       "         5.59190368e-01,  2.73947190e-01, -1.50009920e+00,\n",
       "        -7.35348316e-01],\n",
       "       [-1.28188469e+00,  5.78376499e-01,  1.80743094e-01,\n",
       "         1.09056121e+00, -1.35293688e+00,  5.99298891e-01,\n",
       "         5.62446232e-01,  2.17383492e-01, -1.33265346e+00,\n",
       "        -7.46829515e-01],\n",
       "       [-9.93689684e-01,  4.37875226e-01,  1.16928376e-01,\n",
       "         9.13403239e-01, -1.18989727e+00,  5.90900454e-01,\n",
       "         5.62883163e-01,  1.38133919e-01, -1.17517852e+00,\n",
       "        -7.56515173e-01],\n",
       "       [-7.38314215e-01,  3.07644264e-01,  5.65266223e-02,\n",
       "         7.46123986e-01, -1.02354966e+00,  5.69798061e-01,\n",
       "         5.59812077e-01,  4.24382937e-02, -1.02928746e+00,\n",
       "        -7.64186276e-01],\n",
       "       [-5.16681665e-01,  1.90207467e-01,  2.30036160e-03,\n",
       "         5.90924224e-01, -8.59940184e-01,  5.38540872e-01,\n",
       "         5.50560336e-01, -6.33056039e-02, -8.94910245e-01,\n",
       "        -7.68017826e-01],\n",
       "       [-3.25870377e-01,  8.56373832e-02, -4.78621282e-02,\n",
       "         4.48662720e-01, -7.00764706e-01,  4.99654792e-01,\n",
       "         5.35952699e-01, -1.77093298e-01, -7.75605228e-01,\n",
       "        -7.67767687e-01],\n",
       "       [-1.59071988e-01, -9.06882102e-03, -9.60434915e-02,\n",
       "         3.16813577e-01, -5.43286599e-01,  4.50953152e-01,\n",
       "         5.16644432e-01, -2.98754574e-01, -6.70376702e-01,\n",
       "        -7.66883578e-01],\n",
       "       [-1.64558412e-02, -9.23787998e-02, -1.41373404e-01,\n",
       "         1.96598126e-01, -3.91649278e-01,  3.93740670e-01,\n",
       "         4.92924803e-01, -4.24553328e-01, -5.80133793e-01,\n",
       "        -7.64150476e-01],\n",
       "       [ 1.02083107e-01, -1.61876129e-01, -1.80390735e-01,\n",
       "         9.08373680e-02, -2.52403235e-01,  3.31388718e-01,\n",
       "         4.61418249e-01, -5.46985975e-01, -5.05042459e-01,\n",
       "        -7.56865318e-01],\n",
       "       [ 1.97257053e-01, -2.17738734e-01, -2.16386973e-01,\n",
       "        -2.70271420e-04, -1.23243826e-01,  2.65944830e-01,\n",
       "         4.25964093e-01, -6.65177808e-01, -4.47464239e-01,\n",
       "        -7.47664321e-01],\n",
       "       [ 2.73968714e-01, -2.61353796e-01, -2.48828230e-01,\n",
       "        -7.79609830e-02, -4.31436762e-03,  1.97486677e-01,\n",
       "         3.86150864e-01, -7.77121044e-01, -4.06644617e-01,\n",
       "        -7.37688125e-01],\n",
       "       [ 3.34761436e-01, -2.89975577e-01, -2.72054062e-01,\n",
       "        -1.40728010e-01,  9.71210627e-02,  1.31374041e-01,\n",
       "         3.41397600e-01, -8.75139289e-01, -3.83453778e-01,\n",
       "        -7.22462980e-01],\n",
       "       [ 3.82799635e-01, -3.05339495e-01, -2.88424878e-01,\n",
       "        -1.90816635e-01,  1.84119943e-01,  6.74612185e-02,\n",
       "         2.91775689e-01, -9.60116397e-01, -3.77720325e-01,\n",
       "        -7.04129231e-01],\n",
       "       [ 4.22163150e-01, -3.09557841e-01, -2.99192724e-01,\n",
       "        -2.29914409e-01,  2.59405072e-01,  6.59102347e-03,\n",
       "         2.40799585e-01, -1.03133956e+00, -3.87029939e-01,\n",
       "        -6.86379508e-01],\n",
       "       [ 4.53283959e-01, -3.06135080e-01, -3.06821067e-01,\n",
       "        -2.59620805e-01,  3.28215960e-01, -5.31676410e-02,\n",
       "         1.85997668e-01, -1.09023024e+00, -4.11838962e-01,\n",
       "        -6.72397604e-01],\n",
       "       [ 4.78406513e-01, -2.98232112e-01, -3.14541973e-01,\n",
       "        -2.83607114e-01,  3.95147708e-01, -1.18720521e-01,\n",
       "         1.27116891e-01, -1.14358669e+00, -4.50285740e-01,\n",
       "        -6.65503818e-01],\n",
       "       [ 4.95906432e-01, -2.87418631e-01, -3.17220849e-01,\n",
       "        -2.98986773e-01,  4.53883873e-01, -1.88073704e-01,\n",
       "         6.08982714e-02, -1.18593335e+00, -5.00311160e-01,\n",
       "        -6.61469496e-01],\n",
       "       [ 5.07497920e-01, -2.74648850e-01, -3.17190117e-01,\n",
       "        -3.07684311e-01,  5.05005775e-01, -2.65888432e-01,\n",
       "        -1.11347583e-02, -1.21889204e+00, -5.58488836e-01,\n",
       "        -6.63086096e-01],\n",
       "       [ 5.16419782e-01, -2.62216721e-01, -3.14153838e-01,\n",
       "        -3.09258983e-01,  5.50391077e-01, -3.49082551e-01,\n",
       "        -8.56023260e-02, -1.24033019e+00, -6.20321396e-01,\n",
       "        -6.74060850e-01],\n",
       "       [ 5.22700702e-01, -2.48510808e-01, -3.08163890e-01,\n",
       "        -3.06888789e-01,  5.88155291e-01, -4.40357487e-01,\n",
       "        -1.64747112e-01, -1.25298532e+00, -6.87423398e-01,\n",
       "        -6.97100790e-01],\n",
       "       [ 5.24251336e-01, -2.30397274e-01, -2.94773066e-01,\n",
       "        -2.97846783e-01,  6.08468253e-01, -5.34037827e-01,\n",
       "        -2.49201329e-01, -1.24939192e+00, -7.54919545e-01,\n",
       "        -7.25862745e-01],\n",
       "       [ 5.22647352e-01, -2.10852791e-01, -2.73883451e-01,\n",
       "        -2.83977791e-01,  6.13391172e-01, -6.32322449e-01,\n",
       "        -3.37311244e-01, -1.23102713e+00, -8.15395994e-01,\n",
       "        -7.60916119e-01],\n",
       "       [ 5.16812243e-01, -1.90184224e-01, -2.43899015e-01,\n",
       "        -2.64570512e-01,  6.01235822e-01, -7.30008192e-01,\n",
       "        -4.26751538e-01, -1.19604490e+00, -8.65221549e-01,\n",
       "        -8.03299935e-01],\n",
       "       [ 5.07008427e-01, -1.69519693e-01, -2.02538526e-01,\n",
       "        -2.40384140e-01,  5.69382415e-01, -8.31166124e-01,\n",
       "        -5.19779407e-01, -1.14686912e+00, -8.95090359e-01,\n",
       "        -8.54603679e-01],\n",
       "       [ 4.93751537e-01, -1.48633921e-01, -1.52565119e-01,\n",
       "        -2.14323175e-01,  5.22529524e-01, -9.40699075e-01,\n",
       "        -6.11124876e-01, -1.09092981e+00, -9.03981766e-01,\n",
       "        -9.22126085e-01],\n",
       "       [ 4.76537990e-01, -1.28160783e-01, -9.23644377e-02,\n",
       "        -1.85569518e-01,  4.58964530e-01, -1.05259189e+00,\n",
       "        -6.96642746e-01, -1.02555929e+00, -8.84697209e-01,\n",
       "        -1.00308108e+00],\n",
       "       [ 4.54709830e-01, -1.09785945e-01, -2.10374261e-02,\n",
       "        -1.55253171e-01,  3.79289525e-01, -1.16702188e+00,\n",
       "        -7.75323501e-01, -9.53175572e-01, -8.32954775e-01,\n",
       "        -1.09666822e+00],\n",
       "       [ 4.27394016e-01, -9.43731749e-02,  6.31706529e-02,\n",
       "        -1.25167766e-01,  2.83184533e-01, -1.28706470e+00,\n",
       "        -8.46555874e-01, -8.78907309e-01, -7.46113579e-01,\n",
       "        -1.20031234e+00],\n",
       "       [ 3.93626955e-01, -8.51049291e-02,  1.57830581e-01,\n",
       "        -1.00163184e-01,  1.75359355e-01, -1.42168775e+00,\n",
       "        -9.06009552e-01, -8.14379405e-01, -6.25681121e-01,\n",
       "        -1.30918200e+00],\n",
       "       [ 3.53732863e-01, -7.83445822e-02,  2.66059832e-01,\n",
       "        -7.28411834e-02,  4.60326378e-02, -1.54515956e+00,\n",
       "        -9.46508190e-01, -7.38817044e-01, -4.59552873e-01,\n",
       "        -1.41935407e+00],\n",
       "       [ 3.12790606e-01, -7.32957022e-02,  3.83393786e-01,\n",
       "        -4.35534829e-02, -9.41375940e-02, -1.65997804e+00,\n",
       "        -9.63459470e-01, -6.59180453e-01, -2.51111721e-01,\n",
       "        -1.52310706e+00],\n",
       "       [ 2.69641906e-01, -6.93533216e-02,  5.08641745e-01,\n",
       "        -1.33764818e-02, -2.44875410e-01, -1.76367276e+00,\n",
       "        -9.55012963e-01, -5.76169467e-01, -3.54197203e-04,\n",
       "        -1.61573028e+00],\n",
       "       [ 2.22561025e-01, -6.70146707e-02,  6.37870905e-01,\n",
       "         1.45412413e-02, -4.01109027e-01, -1.86166133e+00,\n",
       "        -9.18319007e-01, -4.98390109e-01,  2.81766439e-01,\n",
       "        -1.68909160e+00],\n",
       "       [ 1.73329761e-01, -6.48499998e-02,  7.71951776e-01,\n",
       "         4.16406373e-02, -5.63216928e-01, -1.94398333e+00,\n",
       "        -8.51562076e-01, -4.19574976e-01,  5.94822390e-01,\n",
       "        -1.73272921e+00],\n",
       "       [ 1.31717867e-01, -5.85336913e-02,  9.04581107e-01,\n",
       "         6.88775255e-02, -7.29007494e-01, -1.99209565e+00,\n",
       "        -7.51935170e-01, -3.35747085e-01,  9.38776774e-01,\n",
       "        -1.73064239e+00],\n",
       "       [ 1.00119031e-01, -4.22150304e-02,  1.02797946e+00,\n",
       "         9.54518976e-02, -8.89027658e-01, -1.99972154e+00,\n",
       "        -6.13164389e-01, -2.46483120e-01,  1.28353350e+00,\n",
       "        -1.66632340e+00],\n",
       "       [ 8.12986173e-02, -2.52929325e-02,  1.13675373e+00,\n",
       "         1.21552645e-01, -1.03544961e+00, -1.96535012e+00,\n",
       "        -4.34597843e-01, -1.55985597e-01,  1.63116203e+00,\n",
       "        -1.56146673e+00],\n",
       "       [ 8.28328593e-02,  7.62805301e-03,  1.22746964e+00,\n",
       "         1.49874961e-01, -1.16355137e+00, -1.87386016e+00,\n",
       "        -2.17807719e-01, -5.29549931e-02,  1.94605507e+00,\n",
       "        -1.38901330e+00],\n",
       "       [ 1.08061494e-01,  5.40258381e-02,  1.29371178e+00,\n",
       "         1.81712772e-01, -1.26274939e+00, -1.71348415e+00,\n",
       "         3.87146921e-02,  6.03404633e-02,  2.21573210e+00,\n",
       "        -1.16273406e+00],\n",
       "       [ 1.53198748e-01,  1.15540763e-01,  1.33580119e+00,\n",
       "         2.15899879e-01, -1.32693653e+00, -1.50636717e+00,\n",
       "         3.15945842e-01,  1.66231073e-01,  2.42441627e+00,\n",
       "        -8.84743715e-01],\n",
       "       [ 2.34604571e-01,  1.98572029e-01,  1.34432636e+00,\n",
       "         2.50612837e-01, -1.34970435e+00, -1.23127504e+00,\n",
       "         6.21930268e-01,  2.64618318e-01,  2.55998249e+00,\n",
       "        -5.63160045e-01],\n",
       "       [ 3.65643720e-01,  3.04386169e-01,  1.31788320e+00,\n",
       "         2.82889127e-01, -1.32121059e+00, -8.90064468e-01,\n",
       "         9.44837893e-01,  3.44771081e-01,  2.59598845e+00,\n",
       "        -2.07064079e-01],\n",
       "       [ 5.45762008e-01,  4.18805223e-01,  1.25364226e+00,\n",
       "         3.03766598e-01, -1.23292116e+00, -5.20078254e-01,\n",
       "         1.25617280e+00,  3.73605478e-01,  2.51483283e+00,\n",
       "         1.48519356e-01],\n",
       "       [ 7.89187903e-01,  5.38474120e-01,  1.15826389e+00,\n",
       "         3.07559931e-01, -1.08948954e+00, -1.38257895e-01,\n",
       "         1.52372148e+00,  3.28024885e-01,  2.31317879e+00,\n",
       "         4.76979110e-01],\n",
       "       [ 1.07153911e+00,  6.43811981e-01,  1.04493265e+00,\n",
       "         2.90407274e-01, -9.02963169e-01,  1.99923083e-01,\n",
       "         1.72062050e+00,  1.95728914e-01,  1.99989867e+00,\n",
       "         7.31912997e-01],\n",
       "       [ 1.37970988e+00,  7.36898207e-01,  9.31137702e-01,\n",
       "         2.52913151e-01, -6.98614031e-01,  4.70111835e-01,\n",
       "         1.82158477e+00, -1.96168602e-02,  1.60088959e+00,\n",
       "         9.03228307e-01],\n",
       "       [ 1.69915272e+00,  8.16524474e-01,  8.25827162e-01,\n",
       "         1.98061001e-01, -5.00751241e-01,  6.40767644e-01,\n",
       "         1.80193560e+00, -2.96683933e-01,  1.13116685e+00,\n",
       "         9.81582133e-01],\n",
       "       [ 2.01374156e+00,  8.71677234e-01,  7.43178368e-01,\n",
       "         1.24787688e-01, -3.31621811e-01,  7.04852741e-01,\n",
       "         1.66281752e+00, -6.13688193e-01,  6.22740069e-01,\n",
       "         9.54754799e-01],\n",
       "       [ 2.32119106e+00,  9.03708818e-01,  6.93554270e-01,\n",
       "         3.61581645e-02, -2.09647387e-01,  6.72269516e-01,\n",
       "         1.40632379e+00, -9.47912647e-01,  1.05820477e-01,\n",
       "         8.32866821e-01],\n",
       "       [ 2.59974856e+00,  9.06445583e-01,  6.80692853e-01,\n",
       "        -6.64891132e-02, -1.54644345e-01,  5.38563528e-01,\n",
       "         1.05153360e+00, -1.26282464e+00, -3.92149725e-01,\n",
       "         6.12462677e-01],\n",
       "       [ 2.83425288e+00,  8.79363031e-01,  7.07027698e-01,\n",
       "        -1.78716312e-01, -1.81227126e-01,  3.20119787e-01,\n",
       "         6.17283980e-01, -1.52513783e+00, -8.34401445e-01,\n",
       "         3.11784179e-01],\n",
       "       [ 3.02065894e+00,  8.23130694e-01,  7.74825768e-01,\n",
       "        -2.96599878e-01, -2.94873545e-01,  3.70930987e-02,\n",
       "         1.24715185e-01, -1.70622241e+00, -1.19322895e+00,\n",
       "        -4.64769060e-02],\n",
       "       [ 3.15264962e+00,  7.40432432e-01,  8.81880633e-01,\n",
       "        -4.20108072e-01, -4.98522663e-01, -2.91825570e-01,\n",
       "        -4.05324882e-01, -1.78389968e+00, -1.45213564e+00,\n",
       "        -4.39383232e-01],\n",
       "       [ 3.22446012e+00,  6.30597718e-01,  1.02105729e+00,\n",
       "        -5.43349764e-01, -7.90669769e-01, -6.32381808e-01,\n",
       "        -9.32420042e-01, -1.73173705e+00, -1.58566467e+00,\n",
       "        -8.33172777e-01],\n",
       "       [ 3.23517177e+00,  4.87782987e-01,  1.17866747e+00,\n",
       "        -6.68096805e-01, -1.15737139e+00, -9.61245686e-01,\n",
       "        -1.41814828e+00, -1.55207841e+00, -1.58288119e+00,\n",
       "        -1.19427329e+00],\n",
       "       [ 3.19028181e+00,  3.21994644e-01,  1.34945794e+00,\n",
       "        -7.93627398e-01, -1.57926314e+00, -1.25015642e+00,\n",
       "        -1.83501389e+00, -1.24762945e+00, -1.45178467e+00,\n",
       "        -1.49623120e+00],\n",
       "       [ 3.09651128e+00,  1.36101320e-01,  1.52081158e+00,\n",
       "        -9.21307840e-01, -2.03745892e+00, -1.48000469e+00,\n",
       "        -2.15690054e+00, -8.31480090e-01, -1.20774351e+00,\n",
       "        -1.71136602e+00],\n",
       "       [ 2.96188645e+00, -6.42890086e-02,  1.68110485e+00,\n",
       "        -1.04920183e+00, -2.50609262e+00, -1.63118019e+00,\n",
       "        -2.36797697e+00, -3.29167860e-01, -8.65509779e-01,\n",
       "        -1.81296574e+00],\n",
       "       [ 2.79001036e+00, -2.74450078e-01,  1.81717716e+00,\n",
       "        -1.17384561e+00, -2.95913709e+00, -1.68772055e+00,\n",
       "        -2.44470244e+00,  2.34485715e-01, -4.49986023e-01,\n",
       "        -1.77661917e+00],\n",
       "       [ 2.58774931e+00, -4.91200054e-01,  1.90461370e+00,\n",
       "        -1.28258752e+00, -3.34559506e+00, -1.62900282e+00,\n",
       "        -2.37900731e+00,  8.00141011e-01,  5.98030189e-03,\n",
       "        -1.56859502e+00],\n",
       "       [ 2.37077193e+00, -7.08416686e-01,  1.92166694e+00,\n",
       "        -1.37058295e+00, -3.61602794e+00, -1.45104814e+00,\n",
       "        -2.17573660e+00,  1.30120962e+00,  4.50023185e-01,\n",
       "        -1.17813210e+00],\n",
       "       [ 2.15564952e+00, -9.01005432e-01,  1.87424529e+00,\n",
       "        -1.44519051e+00, -3.77491241e+00, -1.18832585e+00,\n",
       "        -1.86346999e+00,  1.72531835e+00,  8.30794172e-01,\n",
       "        -6.44005823e-01],\n",
       "       [ 1.95853029e+00, -1.06108286e+00,  1.75842851e+00,\n",
       "        -1.50702087e+00, -3.80247386e+00, -8.49662318e-01,\n",
       "        -1.46468327e+00,  2.01762340e+00,  1.10078291e+00,\n",
       "         1.14065054e-02],\n",
       "       [ 1.79365704e+00, -1.17097368e+00,  1.57418273e+00,\n",
       "        -1.55212098e+00, -3.68845979e+00, -4.53608631e-01,\n",
       "        -1.01936546e+00,  2.15857442e+00,  1.21626552e+00,\n",
       "         7.52122001e-01],\n",
       "       [ 1.66542379e+00, -1.22142377e+00,  1.32603989e+00,\n",
       "        -1.57882834e+00, -3.44412978e+00, -3.52619232e-02,\n",
       "        -5.58967550e-01,  2.15815980e+00,  1.15737676e+00,\n",
       "         1.52177189e+00],\n",
       "       [ 1.57472870e+00, -1.20744836e+00,  1.02030851e+00,\n",
       "        -1.58577769e+00, -3.07780597e+00,  3.78009889e-01,\n",
       "        -1.14527559e-01,  2.01287388e+00,  9.22282923e-01,\n",
       "         2.27003527e+00],\n",
       "       [ 1.52668618e+00, -1.12487593e+00,  6.69452252e-01,\n",
       "        -1.56966329e+00, -2.60780760e+00,  7.73043517e-01,\n",
       "         2.76237484e-01,  1.73531656e+00,  5.22012646e-01,\n",
       "         2.95357543e+00],\n",
       "       [ 1.51628028e+00, -9.77334024e-01,  2.85635749e-01,\n",
       "        -1.52646299e+00, -2.05440112e+00,  1.12060032e+00,\n",
       "         5.80177986e-01,  1.33172892e+00, -3.20900030e-02,\n",
       "         3.52217890e+00],\n",
       "       [ 1.54491291e+00, -7.67807184e-01, -1.12845676e-01,\n",
       "        -1.45599113e+00, -1.44928161e+00,  1.40710324e+00,\n",
       "         7.73564508e-01,  8.42167486e-01, -7.20056913e-01,\n",
       "         3.96091051e+00],\n",
       "       [ 1.60521549e+00, -4.96758127e-01, -5.15822863e-01,\n",
       "        -1.35557093e+00, -8.21187925e-01,  1.60989593e+00,\n",
       "         8.45984135e-01,  3.16803561e-01, -1.49867944e+00,\n",
       "         4.23411237e+00],\n",
       "       [ 1.69629857e+00, -1.82935399e-01, -9.09461163e-01,\n",
       "        -1.22402485e+00, -1.90092556e-01,  1.73583663e+00,\n",
       "         7.78237327e-01, -2.28088746e-01, -2.33576119e+00,\n",
       "         4.33541981e+00],\n",
       "       [ 1.79947580e+00,  1.70271608e-01, -1.28800259e+00,\n",
       "        -1.05546952e+00,  4.23199793e-01,  1.76158883e+00,\n",
       "         5.74486184e-01, -7.43015605e-01, -3.18956524e+00,\n",
       "         4.24399577e+00],\n",
       "       [ 1.90469447e+00,  5.43611649e-01, -1.63186460e+00,\n",
       "        -8.60006017e-01,  9.80776742e-01,  1.68538155e+00,\n",
       "         2.64348438e-01, -1.19574822e+00, -3.99593517e+00,\n",
       "         3.96307941e+00],\n",
       "       [ 2.01798894e+00,  9.30981902e-01, -1.94393206e+00,\n",
       "        -6.35039416e-01,  1.47841668e+00,  1.51874811e+00,\n",
       "        -1.46817340e-01, -1.53757138e+00, -4.73626413e+00,\n",
       "         3.51884449e+00],\n",
       "       [ 2.11920545e+00,  1.31466384e+00, -2.21175207e+00,\n",
       "        -3.93477166e-01,  1.88825751e+00,  1.26074234e+00,\n",
       "        -6.06500532e-01, -1.75252733e+00, -5.34235112e+00,\n",
       "         2.92032734e+00],\n",
       "       [ 2.20072794e+00,  1.68275747e+00, -2.44019476e+00,\n",
       "        -1.36009160e-01,  2.21224814e+00,  9.28304876e-01,\n",
       "        -1.09664332e+00, -1.82912038e+00, -5.79322756e+00,\n",
       "         2.19671045e+00],\n",
       "       [ 2.25870066e+00,  2.02199136e+00, -2.61807639e+00,\n",
       "         1.23532149e-01,  2.43618116e+00,  5.30736919e-01,\n",
       "        -1.57203046e+00, -1.76649101e+00, -6.05064677e+00,\n",
       "         1.38963461e+00],\n",
       "       [ 2.29332931e+00,  2.32093874e+00, -2.74830118e+00,\n",
       "         3.76364670e-01,  2.56713184e+00,  8.89092184e-02,\n",
       "        -2.00429603e+00, -1.56993845e+00, -6.11475046e+00,\n",
       "         5.45017802e-01],\n",
       "       [ 2.31495495e+00,  2.56263064e+00, -2.82118270e+00,\n",
       "         6.09175297e-01,  2.60436789e+00, -3.72024293e-01,\n",
       "        -2.36614605e+00, -1.26076033e+00, -5.99362194e+00,\n",
       "        -2.80080061e-01],\n",
       "       [ 2.31070096e+00,  2.74721838e+00, -2.85434446e+00,\n",
       "         8.18248534e-01,  2.56783300e+00, -8.36992165e-01,\n",
       "        -2.62297400e+00, -8.53263136e-01, -5.70127964e+00,\n",
       "        -1.07225216e+00],\n",
       "       [ 2.27954253e+00,  2.87554107e+00, -2.83234168e+00,\n",
       "         9.85760897e-01,  2.45090370e+00, -1.30110021e+00,\n",
       "        -2.73739696e+00, -3.94080576e-01, -5.22561551e+00,\n",
       "        -1.78140194e+00],\n",
       "       [ 2.23511742e+00,  2.94285726e+00, -2.77130725e+00,\n",
       "         1.11438494e+00,  2.28501372e+00, -1.73304244e+00,\n",
       "        -2.71916755e+00,  9.17845453e-02, -4.62180460e+00,\n",
       "        -2.37534059e+00],\n",
       "       [ 2.17629380e+00,  2.95185430e+00, -2.68096042e+00,\n",
       "         1.20124483e+00,  2.08372252e+00, -2.11710320e+00,\n",
       "        -2.55297188e+00,  5.70904994e-01, -3.92020071e+00,\n",
       "        -2.83901386e+00]])"
      ]
     },
     "execution_count": 1300,
     "metadata": {},
     "output_type": "execute_result"
    }
   ],
   "source": [
    "y_hat_transform = rebuild_df(\n",
    "    y_hat,\n",
    "    full_set['train']['y'].columns,\n",
    "    full_set['train']['y'].index\n",
    ")"
   ]
  },
  {
   "cell_type": "code",
   "execution_count": null,
   "metadata": {},
   "outputs": [],
   "source": []
  },
  {
   "cell_type": "code",
   "execution_count": 435,
   "metadata": {},
   "outputs": [],
   "source": [
    "def time_series_cross_val_predict(model, x, y, folds=10):\n",
    "    if folds < 5:\n",
    "        print(\"Must have 5 or more folds\")\n",
    "        return\n",
    "    else:\n",
    "        x_folds = time_series_kfolds(x, folds=folds)\n",
    "        y_folds = time_series_kfolds(y, folds=folds)\n",
    "        predictions = []\n",
    "        true_values = []\n",
    "        for i in range(3, folds):\n",
    "            x_train = pd.concat([x_folds[i-3], x_folds[i-2], x_folds[i-1]], axis=0)\n",
    "            y_train = pd.concat([y_folds[i-3], y_folds[i-2], y_folds[i-1]], axis=0)\n",
    "            x_test = x_folds[i]\n",
    "            true_values.append(y_folds[i])\n",
    "            model.fit(x_train, y_train)\n",
    "            temp_predictions = model.predict(x_test)\n",
    "            predictions.append(temp_predictions)\n",
    "        out = {'true_values': true_values, 'predictions': predictions}\n",
    "        return out"
   ]
  },
  {
   "cell_type": "code",
   "execution_count": 345,
   "metadata": {},
   "outputs": [],
   "source": [
    "pipeline = Pipeline(steps=[\n",
    "    ('scale', StandardScaler()),\n",
    "    ('svr', SVR(C=0.5, kernel='poly'))\n",
    "])\n",
    "\n",
    "cross_val_predictions = time_series_cross_val_predict(\n",
    "    pipeline,\n",
    "    full_set['train']['x'],\n",
    "    full_set['train']['y'], folds=20\n",
    ")"
   ]
  },
  {
   "cell_type": "code",
   "execution_count": 409,
   "metadata": {},
   "outputs": [
    {
     "data": {
      "text/plain": [
       "[<matplotlib.lines.Line2D at 0x14f728fd0>]"
      ]
     },
     "execution_count": 409,
     "metadata": {},
     "output_type": "execute_result"
    },
    {
     "data": {
      "image/png": "[encoded data removed]",
      "text/plain": [
       "<Figure size 432x288 with 1 Axes>"
      ]
     },
     "metadata": {
      "needs_background": "light"
     },
     "output_type": "display_data"
    }
   ],
   "source": [
    "fold = 4\n",
    "\n",
    "plt.plot(cross_val_predictions['true_values'][fold])\n",
    "prediction_s = pd.Series(\n",
    "    cross_val_predictions['predictions'][fold],\n",
    "    index=cross_val_predictions['true_values'][fold].index\n",
    ")\n",
    "plt.plot(prediction_s)"
   ]
  },
  {
   "cell_type": "code",
   "execution_count": 355,
   "metadata": {},
   "outputs": [
    {
     "data": {
      "text/plain": [
       "[<matplotlib.lines.Line2D at 0x1c3839240>]"
      ]
     },
     "execution_count": 355,
     "metadata": {},
     "output_type": "execute_result"
    },
    {
     "data": {
      "image/png": "[encoded data removed]",
      "text/plain": [
       "<Figure size 432x288 with 1 Axes>"
      ]
     },
     "metadata": {
      "needs_background": "light"
     },
     "output_type": "display_data"
    }
   ],
   "source": [
    "plt.plot(zero_to_one(cross_val_predictions['true_values'][fold]))\n",
    "plt.plot(zero_to_one(prediction_s))"
   ]
  },
  {
   "cell_type": "code",
   "execution_count": 359,
   "metadata": {},
   "outputs": [
    {
     "data": {
      "text/plain": [
       "0.9423785494083549"
      ]
     },
     "execution_count": 359,
     "metadata": {},
     "output_type": "execute_result"
    }
   ],
   "source": [
    "from sklearn.metrics import mean_squared_error\n",
    "\n",
    "zero_to_one(np.sqrt(mean_squared_error(cross_val_predictions['true_values'][fold], prediction_s)))"
   ]
  },
  {
   "cell_type": "code",
   "execution_count": 360,
   "metadata": {},
   "outputs": [
    {
     "data": {
      "text/plain": [
       "<matplotlib.collections.PathCollection at 0x1c405b780>"
      ]
     },
     "execution_count": 360,
     "metadata": {},
     "output_type": "execute_result"
    },
    {
     "data": {
      "image/png": "[encoded data removed]",
      "text/plain": [
       "<Figure size 432x288 with 1 Axes>"
      ]
     },
     "metadata": {
      "needs_background": "light"
     },
     "output_type": "display_data"
    }
   ],
   "source": []
  }
 ],
 "metadata": {
  "kernelspec": {
   "display_name": "Python 3",
   "language": "python",
   "name": "python3"
  },
  "language_info": {
   "codemirror_mode": {
    "name": "ipython",
    "version": 3
   },
   "file_extension": ".py",
   "mimetype": "text/x-python",
   "name": "python",
   "nbconvert_exporter": "python",
   "pygments_lexer": "ipython3",
   "version": "3.7.1"
  }
 },
 "nbformat": 4,
 "nbformat_minor": 2
}
